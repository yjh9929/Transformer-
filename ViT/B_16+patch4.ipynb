{
 "cells": [
  {
   "cell_type": "code",
   "execution_count": 1,
   "id": "b4f103c6",
   "metadata": {},
   "outputs": [
    {
     "name": "stdout",
     "output_type": "stream",
     "text": [
      "Collecting pytorch_pretrained_vit\n",
      "  Downloading pytorch-pretrained-vit-0.0.7.tar.gz (13 kB)\n",
      "  Preparing metadata (setup.py) ... \u001b[?25ldone\n",
      "\u001b[?25hRequirement already satisfied: torch in /home/cvmlserver3/anaconda3/lib/python3.11/site-packages (from pytorch_pretrained_vit) (2.1.2+cu118)\n",
      "Requirement already satisfied: filelock in /home/cvmlserver3/anaconda3/lib/python3.11/site-packages (from torch->pytorch_pretrained_vit) (3.9.0)\n",
      "Requirement already satisfied: typing-extensions in /home/cvmlserver3/anaconda3/lib/python3.11/site-packages (from torch->pytorch_pretrained_vit) (4.7.1)\n",
      "Requirement already satisfied: sympy in /home/cvmlserver3/anaconda3/lib/python3.11/site-packages (from torch->pytorch_pretrained_vit) (1.11.1)\n",
      "Requirement already satisfied: networkx in /home/cvmlserver3/anaconda3/lib/python3.11/site-packages (from torch->pytorch_pretrained_vit) (3.1)\n",
      "Requirement already satisfied: jinja2 in /home/cvmlserver3/anaconda3/lib/python3.11/site-packages (from torch->pytorch_pretrained_vit) (3.1.2)\n",
      "Requirement already satisfied: fsspec in /home/cvmlserver3/anaconda3/lib/python3.11/site-packages (from torch->pytorch_pretrained_vit) (2023.4.0)\n",
      "Requirement already satisfied: triton==2.1.0 in /home/cvmlserver3/anaconda3/lib/python3.11/site-packages (from torch->pytorch_pretrained_vit) (2.1.0)\n",
      "Requirement already satisfied: MarkupSafe>=2.0 in /home/cvmlserver3/anaconda3/lib/python3.11/site-packages (from jinja2->torch->pytorch_pretrained_vit) (2.1.1)\n",
      "Requirement already satisfied: mpmath>=0.19 in /home/cvmlserver3/anaconda3/lib/python3.11/site-packages (from sympy->torch->pytorch_pretrained_vit) (1.3.0)\n",
      "Building wheels for collected packages: pytorch_pretrained_vit\n",
      "  Building wheel for pytorch_pretrained_vit (setup.py) ... \u001b[?25ldone\n",
      "\u001b[?25h  Created wheel for pytorch_pretrained_vit: filename=pytorch_pretrained_vit-0.0.7-py3-none-any.whl size=11115 sha256=ff2d7242f556014e87970253a40f110650150b8196dbd040f30119baa3ef372a\n",
      "  Stored in directory: /home/cvmlserver3/.cache/pip/wheels/79/c8/4f/9ad72c6f247a7e6888cc7767db9632675cf82656fffec85518\n",
      "Successfully built pytorch_pretrained_vit\n",
      "Installing collected packages: pytorch_pretrained_vit\n",
      "Successfully installed pytorch_pretrained_vit-0.0.7\n"
     ]
    }
   ],
   "source": [
    "!pip3 install pytorch_pretrained_vit"
   ]
  },
  {
   "cell_type": "code",
   "execution_count": 1,
   "id": "c7005e4c",
   "metadata": {},
   "outputs": [],
   "source": [
    "import torch\n",
    "import torchvision\n",
    "import torchvision.transforms as transforms\n",
    "from torch.utils.data import DataLoader\n",
    "from torch import nn, optim\n",
    "from pytorch_pretrained_vit import ViT\n",
    "\n",
    "from tqdm import tqdm\n",
    "import time\n",
    "import matplotlib.pyplot as plt"
   ]
  },
  {
   "cell_type": "code",
   "execution_count": 2,
   "id": "5da0a170",
   "metadata": {},
   "outputs": [
    {
     "name": "stdout",
     "output_type": "stream",
     "text": [
      "/home/cvmlserver3/jihee/ComputerVision\n"
     ]
    }
   ],
   "source": [
    "#%mkdir ComputerVision\n",
    "%cd ComputerVision"
   ]
  },
  {
   "cell_type": "code",
   "execution_count": 3,
   "id": "daecc5d7",
   "metadata": {},
   "outputs": [
    {
     "name": "stdout",
     "output_type": "stream",
     "text": [
      "Files already downloaded and verified\n",
      "Files already downloaded and verified\n"
     ]
    },
    {
     "name": "stderr",
     "output_type": "stream",
     "text": [
      "Downloading: \"https://github.com/lukemelas/PyTorch-Pretrained-ViT/releases/download/0.0.2/B_16.pth\" to /home/cvmlserver3/.cache/torch/hub/checkpoints/B_16.pth\n",
      "100%|████████████████████████████████████████████████| 391M/391M [03:45<00:00, 1.82MB/s]\n"
     ]
    },
    {
     "name": "stdout",
     "output_type": "stream",
     "text": [
      "Resized positional embeddings from torch.Size([1, 197, 768]) to torch.Size([1, 197, 768])\n",
      "Loaded pretrained weights.\n"
     ]
    }
   ],
   "source": [
    "# CIFAR-10 데이터셋에 대한 변환 정의\n",
    "transform = transforms.Compose([\n",
    "    transforms.Resize((224, 224)),  # ViT는 224x224 입력을 기대\n",
    "    transforms.ToTensor(),\n",
    "    transforms.Normalize((0.5, 0.5, 0.5), (0.5, 0.5, 0.5))\n",
    "])\n",
    "\n",
    "# CIFAR-10 데이터셋 다운로드 및 로드\n",
    "trainset = torchvision.datasets.CIFAR10(root='./data', train=True, download=True, transform=transform)\n",
    "trainloader = DataLoader(trainset, batch_size=128, shuffle=True, num_workers=4)\n",
    "\n",
    "testset = torchvision.datasets.CIFAR10(root='./data', train=False, download=True, transform=transform)\n",
    "testloader = DataLoader(testset, batch_size=128, shuffle=False, num_workers=4)\n",
    "\n",
    "\n",
    "# 사전 학습된 ViT 모델 불러오기\n",
    "model = ViT('B_16', pretrained=True, image_size=224, patches=4, num_layers=10)"
   ]
  },
  {
   "cell_type": "code",
   "execution_count": 5,
   "id": "26403614",
   "metadata": {},
   "outputs": [
    {
     "data": {
      "text/plain": [
       "DataParallel(\n",
       "  (module): ViT(\n",
       "    (patch_embedding): Conv2d(3, 768, kernel_size=(16, 16), stride=(16, 16))\n",
       "    (positional_embedding): PositionalEmbedding1D()\n",
       "    (transformer): Transformer(\n",
       "      (blocks): ModuleList(\n",
       "        (0-11): 12 x Block(\n",
       "          (attn): MultiHeadedSelfAttention(\n",
       "            (proj_q): Linear(in_features=768, out_features=768, bias=True)\n",
       "            (proj_k): Linear(in_features=768, out_features=768, bias=True)\n",
       "            (proj_v): Linear(in_features=768, out_features=768, bias=True)\n",
       "            (drop): Dropout(p=0.1, inplace=False)\n",
       "          )\n",
       "          (proj): Linear(in_features=768, out_features=768, bias=True)\n",
       "          (norm1): LayerNorm((768,), eps=1e-06, elementwise_affine=True)\n",
       "          (pwff): PositionWiseFeedForward(\n",
       "            (fc1): Linear(in_features=768, out_features=3072, bias=True)\n",
       "            (fc2): Linear(in_features=3072, out_features=768, bias=True)\n",
       "          )\n",
       "          (norm2): LayerNorm((768,), eps=1e-06, elementwise_affine=True)\n",
       "          (drop): Dropout(p=0.1, inplace=False)\n",
       "        )\n",
       "      )\n",
       "    )\n",
       "    (norm): LayerNorm((768,), eps=1e-06, elementwise_affine=True)\n",
       "    (fc): Linear(in_features=768, out_features=10, bias=True)\n",
       "  )\n",
       ")"
      ]
     },
     "execution_count": 5,
     "metadata": {},
     "output_type": "execute_result"
    }
   ],
   "source": [
    "# 손실 함수 및 옵티마이저 정의\n",
    "criterion = nn.CrossEntropyLoss()\n",
    "optimizer = optim.Adam(model.parameters(), lr=0.001)\n",
    "\n",
    "# Multi-GPU 지원을 위해 DataParallel 사용\n",
    "if torch.cuda.device_count() > 1:\n",
    "    model = nn.DataParallel(model)\n",
    "\n",
    "# 모델을 GPU로 이동\n",
    "device = torch.device(\"cuda\")\n",
    "model.to(device)"
   ]
  },
  {
   "cell_type": "code",
   "execution_count": 6,
   "id": "05c5d5f0",
   "metadata": {},
   "outputs": [
    {
     "name": "stderr",
     "output_type": "stream",
     "text": [
      "Epoch 1/100: 100%|██████| 391/391 [03:39<00:00,  1.78batch/s, accuracy=82.9, loss=0.327]\n",
      "Validation: 100%|████████████████████████████████████| 79/79 [00:18<00:00,  4.29batch/s]\n"
     ]
    },
    {
     "name": "stdout",
     "output_type": "stream",
     "text": [
      "Epoch [1/100], Train Loss: 0.5233, Train Accuracy: 82.91%, Val Loss: 0.3651, Val Accuracy: 87.70%, ETA: 06:33:11\n",
      "saved model at epoch 0\n"
     ]
    },
    {
     "name": "stderr",
     "output_type": "stream",
     "text": [
      "Epoch 2/100: 100%|██████| 391/391 [03:50<00:00,  1.70batch/s, accuracy=89.5, loss=0.198]\n",
      "Validation: 100%|████████████████████████████████████| 79/79 [00:19<00:00,  4.00batch/s]\n"
     ]
    },
    {
     "name": "stdout",
     "output_type": "stream",
     "text": [
      "Epoch [2/100], Train Loss: 0.3166, Train Accuracy: 89.46%, Val Loss: 0.3478, Val Accuracy: 88.12%, ETA: 06:48:24\n"
     ]
    },
    {
     "name": "stderr",
     "output_type": "stream",
     "text": [
      "Epoch 3/100: 100%|██████| 391/391 [03:54<00:00,  1.67batch/s, accuracy=90.2, loss=0.181]\n",
      "Validation: 100%|████████████████████████████████████| 79/79 [00:19<00:00,  3.97batch/s]\n"
     ]
    },
    {
     "name": "stdout",
     "output_type": "stream",
     "text": [
      "Epoch [3/100], Train Loss: 0.2890, Train Accuracy: 90.18%, Val Loss: 0.3769, Val Accuracy: 87.23%, ETA: 06:51:36\n"
     ]
    },
    {
     "name": "stderr",
     "output_type": "stream",
     "text": [
      "Epoch 4/100: 100%|██████| 391/391 [03:56<00:00,  1.66batch/s, accuracy=89.6, loss=0.192]\n",
      "Validation: 100%|████████████████████████████████████| 79/79 [00:19<00:00,  4.01batch/s]\n"
     ]
    },
    {
     "name": "stdout",
     "output_type": "stream",
     "text": [
      "Epoch [4/100], Train Loss: 0.3070, Train Accuracy: 89.57%, Val Loss: 0.4217, Val Accuracy: 86.45%, ETA: 06:49:07\n"
     ]
    },
    {
     "name": "stderr",
     "output_type": "stream",
     "text": [
      "Epoch 5/100: 100%|██████| 391/391 [03:57<00:00,  1.65batch/s, accuracy=90.3, loss=0.176]\n",
      "Validation: 100%|████████████████████████████████████| 79/79 [00:19<00:00,  4.04batch/s]\n"
     ]
    },
    {
     "name": "stdout",
     "output_type": "stream",
     "text": [
      "Epoch [5/100], Train Loss: 0.2819, Train Accuracy: 90.29%, Val Loss: 0.3545, Val Accuracy: 88.52%, ETA: 06:46:41\n"
     ]
    },
    {
     "name": "stderr",
     "output_type": "stream",
     "text": [
      "Epoch 6/100: 100%|██████| 391/391 [03:57<00:00,  1.64batch/s, accuracy=87.1, loss=0.234]\n",
      "Validation: 100%|████████████████████████████████████| 79/79 [00:19<00:00,  4.02batch/s]\n"
     ]
    },
    {
     "name": "stdout",
     "output_type": "stream",
     "text": [
      "Epoch [6/100], Train Loss: 0.3736, Train Accuracy: 87.09%, Val Loss: 0.3832, Val Accuracy: 87.12%, ETA: 06:43:36\n"
     ]
    },
    {
     "name": "stderr",
     "output_type": "stream",
     "text": [
      "Epoch 7/100: 100%|███████| 391/391 [03:57<00:00,  1.65batch/s, accuracy=90.1, loss=0.18]\n",
      "Validation: 100%|████████████████████████████████████| 79/79 [00:20<00:00,  3.94batch/s]\n"
     ]
    },
    {
     "name": "stdout",
     "output_type": "stream",
     "text": [
      "Epoch [7/100], Train Loss: 0.2884, Train Accuracy: 90.06%, Val Loss: 0.3823, Val Accuracy: 87.65%, ETA: 06:39:21\n"
     ]
    },
    {
     "name": "stderr",
     "output_type": "stream",
     "text": [
      "Epoch 8/100: 100%|██████| 391/391 [03:58<00:00,  1.64batch/s, accuracy=88.9, loss=0.204]\n",
      "Validation: 100%|████████████████████████████████████| 79/79 [00:20<00:00,  3.95batch/s]\n"
     ]
    },
    {
     "name": "stdout",
     "output_type": "stream",
     "text": [
      "Epoch [8/100], Train Loss: 0.3265, Train Accuracy: 88.91%, Val Loss: 0.3993, Val Accuracy: 86.77%, ETA: 06:35:40\n"
     ]
    },
    {
     "name": "stderr",
     "output_type": "stream",
     "text": [
      "Epoch 9/100: 100%|███████| 391/391 [03:57<00:00,  1.64batch/s, accuracy=91.2, loss=0.16]\n",
      "Validation: 100%|████████████████████████████████████| 79/79 [00:19<00:00,  4.02batch/s]\n"
     ]
    },
    {
     "name": "stdout",
     "output_type": "stream",
     "text": [
      "Epoch [9/100], Train Loss: 0.2560, Train Accuracy: 91.20%, Val Loss: 0.3456, Val Accuracy: 88.39%, ETA: 06:30:35\n"
     ]
    },
    {
     "name": "stderr",
     "output_type": "stream",
     "text": [
      "Epoch 10/100: 100%|█████| 391/391 [03:59<00:00,  1.63batch/s, accuracy=91.8, loss=0.147]\n",
      "Validation: 100%|████████████████████████████████████| 79/79 [00:20<00:00,  3.93batch/s]\n"
     ]
    },
    {
     "name": "stdout",
     "output_type": "stream",
     "text": [
      "Epoch [10/100], Train Loss: 0.2354, Train Accuracy: 91.78%, Val Loss: 0.3427, Val Accuracy: 88.95%, ETA: 06:29:56\n"
     ]
    },
    {
     "name": "stderr",
     "output_type": "stream",
     "text": [
      "Epoch 11/100: 100%|█████| 391/391 [03:59<00:00,  1.63batch/s, accuracy=90.6, loss=0.169]\n",
      "Validation: 100%|████████████████████████████████████| 79/79 [00:19<00:00,  3.97batch/s]\n"
     ]
    },
    {
     "name": "stdout",
     "output_type": "stream",
     "text": [
      "Epoch [11/100], Train Loss: 0.2704, Train Accuracy: 90.57%, Val Loss: 0.4051, Val Accuracy: 86.58%, ETA: 06:25:22\n",
      "saved model at epoch 10\n"
     ]
    },
    {
     "name": "stderr",
     "output_type": "stream",
     "text": [
      "Epoch 12/100: 100%|█████| 391/391 [04:00<00:00,  1.62batch/s, accuracy=91.6, loss=0.154]\n",
      "Validation: 100%|████████████████████████████████████| 79/79 [00:20<00:00,  3.89batch/s]\n"
     ]
    },
    {
     "name": "stdout",
     "output_type": "stream",
     "text": [
      "Epoch [12/100], Train Loss: 0.2455, Train Accuracy: 91.59%, Val Loss: 0.3614, Val Accuracy: 88.16%, ETA: 06:22:48\n"
     ]
    },
    {
     "name": "stderr",
     "output_type": "stream",
     "text": [
      "Epoch 13/100: 100%|█████| 391/391 [04:02<00:00,  1.61batch/s, accuracy=90.8, loss=0.168]\n",
      "Validation: 100%|████████████████████████████████████| 79/79 [00:20<00:00,  3.89batch/s]\n"
     ]
    },
    {
     "name": "stdout",
     "output_type": "stream",
     "text": [
      "Epoch [13/100], Train Loss: 0.2692, Train Accuracy: 90.75%, Val Loss: 0.4202, Val Accuracy: 85.46%, ETA: 06:20:32\n"
     ]
    },
    {
     "name": "stderr",
     "output_type": "stream",
     "text": [
      "Epoch 14/100: 100%|█████| 391/391 [04:03<00:00,  1.61batch/s, accuracy=90.8, loss=0.166]\n",
      "Validation: 100%|████████████████████████████████████| 79/79 [00:20<00:00,  3.92batch/s]\n"
     ]
    },
    {
     "name": "stdout",
     "output_type": "stream",
     "text": [
      "Epoch [14/100], Train Loss: 0.2659, Train Accuracy: 90.76%, Val Loss: 0.3206, Val Accuracy: 89.53%, ETA: 06:17:24\n"
     ]
    },
    {
     "name": "stderr",
     "output_type": "stream",
     "text": [
      "Epoch 15/100: 100%|█████| 391/391 [04:01<00:00,  1.62batch/s, accuracy=92.7, loss=0.132]\n",
      "Validation: 100%|████████████████████████████████████| 79/79 [00:20<00:00,  3.83batch/s]\n"
     ]
    },
    {
     "name": "stdout",
     "output_type": "stream",
     "text": [
      "Epoch [15/100], Train Loss: 0.2117, Train Accuracy: 92.66%, Val Loss: 0.3337, Val Accuracy: 89.51%, ETA: 06:10:46\n"
     ]
    },
    {
     "name": "stderr",
     "output_type": "stream",
     "text": [
      "Epoch 16/100: 100%|█████| 391/391 [04:03<00:00,  1.61batch/s, accuracy=93.8, loss=0.111]\n",
      "Validation: 100%|████████████████████████████████████| 79/79 [00:20<00:00,  3.88batch/s]\n"
     ]
    },
    {
     "name": "stdout",
     "output_type": "stream",
     "text": [
      "Epoch [16/100], Train Loss: 0.1766, Train Accuracy: 93.81%, Val Loss: 0.3457, Val Accuracy: 88.53%, ETA: 06:08:49\n"
     ]
    },
    {
     "name": "stderr",
     "output_type": "stream",
     "text": [
      "Epoch 17/100: 100%|█████| 391/391 [04:02<00:00,  1.61batch/s, accuracy=93.6, loss=0.117]\n",
      "Validation: 100%|████████████████████████████████████| 79/79 [00:21<00:00,  3.76batch/s]\n"
     ]
    },
    {
     "name": "stdout",
     "output_type": "stream",
     "text": [
      "Epoch [17/100], Train Loss: 0.1863, Train Accuracy: 93.57%, Val Loss: 0.3419, Val Accuracy: 88.49%, ETA: 06:04:52\n"
     ]
    },
    {
     "name": "stderr",
     "output_type": "stream",
     "text": [
      "Epoch 18/100: 100%|██████| 391/391 [04:02<00:00,  1.61batch/s, accuracy=93.9, loss=0.11]\n",
      "Validation: 100%|████████████████████████████████████| 79/79 [00:20<00:00,  3.92batch/s]\n"
     ]
    },
    {
     "name": "stdout",
     "output_type": "stream",
     "text": [
      "Epoch [18/100], Train Loss: 0.1751, Train Accuracy: 93.86%, Val Loss: 0.3369, Val Accuracy: 89.62%, ETA: 05:59:14\n"
     ]
    },
    {
     "name": "stderr",
     "output_type": "stream",
     "text": [
      "Epoch 19/100: 100%|████| 391/391 [04:02<00:00,  1.61batch/s, accuracy=94.5, loss=0.0992]\n",
      "Validation: 100%|████████████████████████████████████| 79/79 [00:20<00:00,  3.81batch/s]\n"
     ]
    },
    {
     "name": "stdout",
     "output_type": "stream",
     "text": [
      "Epoch [19/100], Train Loss: 0.1586, Train Accuracy: 94.48%, Val Loss: 0.3739, Val Accuracy: 88.16%, ETA: 05:55:01\n"
     ]
    },
    {
     "name": "stderr",
     "output_type": "stream",
     "text": [
      "Epoch 20/100: 100%|█████| 391/391 [04:03<00:00,  1.60batch/s, accuracy=93.2, loss=0.123]\n",
      "Validation: 100%|████████████████████████████████████| 79/79 [00:20<00:00,  3.81batch/s]\n"
     ]
    },
    {
     "name": "stdout",
     "output_type": "stream",
     "text": [
      "Epoch [20/100], Train Loss: 0.1972, Train Accuracy: 93.16%, Val Loss: 0.3675, Val Accuracy: 88.40%, ETA: 05:52:47\n"
     ]
    },
    {
     "name": "stderr",
     "output_type": "stream",
     "text": [
      "Epoch 21/100: 100%|█████| 391/391 [04:04<00:00,  1.60batch/s, accuracy=94.1, loss=0.107]\n",
      "Validation: 100%|████████████████████████████████████| 79/79 [00:21<00:00,  3.76batch/s]\n"
     ]
    },
    {
     "name": "stdout",
     "output_type": "stream",
     "text": [
      "Epoch [21/100], Train Loss: 0.1711, Train Accuracy: 94.13%, Val Loss: 0.3251, Val Accuracy: 89.95%, ETA: 05:49:19\n",
      "saved model at epoch 20\n"
     ]
    },
    {
     "name": "stderr",
     "output_type": "stream",
     "text": [
      "Epoch 22/100: 100%|███████| 391/391 [04:08<00:00,  1.57batch/s, accuracy=93, loss=0.126]\n",
      "Validation: 100%|████████████████████████████████████| 79/79 [00:20<00:00,  3.83batch/s]\n"
     ]
    },
    {
     "name": "stdout",
     "output_type": "stream",
     "text": [
      "Epoch [22/100], Train Loss: 0.2016, Train Accuracy: 92.95%, Val Loss: 0.3429, Val Accuracy: 89.38%, ETA: 05:49:37\n"
     ]
    },
    {
     "name": "stderr",
     "output_type": "stream",
     "text": [
      "Epoch 23/100: 100%|█████| 391/391 [04:06<00:00,  1.59batch/s, accuracy=93.6, loss=0.114]\n",
      "Validation: 100%|████████████████████████████████████| 79/79 [00:21<00:00,  3.72batch/s]\n"
     ]
    },
    {
     "name": "stdout",
     "output_type": "stream",
     "text": [
      "Epoch [23/100], Train Loss: 0.1816, Train Accuracy: 93.64%, Val Loss: 0.3855, Val Accuracy: 88.19%, ETA: 05:43:18\n"
     ]
    },
    {
     "name": "stderr",
     "output_type": "stream",
     "text": [
      "Epoch 24/100: 100%|███████| 391/391 [04:08<00:00,  1.57batch/s, accuracy=94, loss=0.109]\n",
      "Validation: 100%|████████████████████████████████████| 79/79 [00:21<00:00,  3.75batch/s]\n"
     ]
    },
    {
     "name": "stdout",
     "output_type": "stream",
     "text": [
      "Epoch [24/100], Train Loss: 0.1743, Train Accuracy: 94.03%, Val Loss: 0.3212, Val Accuracy: 89.79%, ETA: 05:41:24\n"
     ]
    },
    {
     "name": "stderr",
     "output_type": "stream",
     "text": [
      "Epoch 25/100: 100%|████| 391/391 [04:09<00:00,  1.57batch/s, accuracy=95.5, loss=0.0809]\n",
      "Validation: 100%|████████████████████████████████████| 79/79 [00:21<00:00,  3.67batch/s]\n"
     ]
    },
    {
     "name": "stdout",
     "output_type": "stream",
     "text": [
      "Epoch [25/100], Train Loss: 0.1293, Train Accuracy: 95.49%, Val Loss: 0.3066, Val Accuracy: 90.60%, ETA: 05:38:47\n"
     ]
    },
    {
     "name": "stderr",
     "output_type": "stream",
     "text": [
      "Epoch 26/100: 100%|████| 391/391 [04:11<00:00,  1.56batch/s, accuracy=95.6, loss=0.0805]\n",
      "Validation: 100%|████████████████████████████████████| 79/79 [00:21<00:00,  3.69batch/s]\n"
     ]
    },
    {
     "name": "stdout",
     "output_type": "stream",
     "text": [
      "Epoch [26/100], Train Loss: 0.1286, Train Accuracy: 95.58%, Val Loss: 0.3412, Val Accuracy: 89.23%, ETA: 05:36:20\n"
     ]
    },
    {
     "name": "stderr",
     "output_type": "stream",
     "text": [
      "Epoch 27/100: 100%|█████| 391/391 [04:16<00:00,  1.52batch/s, accuracy=94.7, loss=0.095]\n",
      "Validation: 100%|████████████████████████████████████| 79/79 [00:21<00:00,  3.69batch/s]\n"
     ]
    },
    {
     "name": "stdout",
     "output_type": "stream",
     "text": [
      "Epoch [27/100], Train Loss: 0.1519, Train Accuracy: 94.68%, Val Loss: 0.3649, Val Accuracy: 88.91%, ETA: 05:38:02\n"
     ]
    },
    {
     "name": "stderr",
     "output_type": "stream",
     "text": [
      "Epoch 28/100: 100%|██████| 391/391 [04:23<00:00,  1.48batch/s, accuracy=95, loss=0.0907]\n",
      "Validation: 100%|████████████████████████████████████| 79/79 [00:21<00:00,  3.63batch/s]\n"
     ]
    },
    {
     "name": "stdout",
     "output_type": "stream",
     "text": [
      "Epoch [28/100], Train Loss: 0.1449, Train Accuracy: 95.00%, Val Loss: 0.3488, Val Accuracy: 89.70%, ETA: 05:42:38\n"
     ]
    },
    {
     "name": "stderr",
     "output_type": "stream",
     "text": [
      "Epoch 29/100: 100%|████| 391/391 [04:25<00:00,  1.47batch/s, accuracy=94.6, loss=0.0982]\n",
      "Validation: 100%|████████████████████████████████████| 79/79 [00:21<00:00,  3.64batch/s]\n"
     ]
    },
    {
     "name": "stdout",
     "output_type": "stream",
     "text": [
      "Epoch [29/100], Train Loss: 0.1570, Train Accuracy: 94.58%, Val Loss: 0.3479, Val Accuracy: 89.13%, ETA: 05:40:20\n"
     ]
    },
    {
     "name": "stderr",
     "output_type": "stream",
     "text": [
      "Epoch 30/100: 100%|████| 391/391 [04:28<00:00,  1.46batch/s, accuracy=94.8, loss=0.0927]\n",
      "Validation: 100%|████████████████████████████████████| 79/79 [00:22<00:00,  3.57batch/s]\n"
     ]
    },
    {
     "name": "stdout",
     "output_type": "stream",
     "text": [
      "Epoch [30/100], Train Loss: 0.1481, Train Accuracy: 94.76%, Val Loss: 0.3647, Val Accuracy: 89.51%, ETA: 05:39:17\n"
     ]
    },
    {
     "name": "stderr",
     "output_type": "stream",
     "text": [
      "Epoch 31/100: 100%|████| 391/391 [04:34<00:00,  1.42batch/s, accuracy=95.8, loss=0.0755]\n",
      "Validation: 100%|████████████████████████████████████| 79/79 [00:22<00:00,  3.56batch/s]\n"
     ]
    },
    {
     "name": "stdout",
     "output_type": "stream",
     "text": [
      "Epoch [31/100], Train Loss: 0.1207, Train Accuracy: 95.81%, Val Loss: 0.3454, Val Accuracy: 90.10%, ETA: 05:41:33\n",
      "saved model at epoch 30\n"
     ]
    },
    {
     "name": "stderr",
     "output_type": "stream",
     "text": [
      "Epoch 32/100: 100%|████| 391/391 [04:38<00:00,  1.41batch/s, accuracy=95.4, loss=0.0818]\n",
      "Validation: 100%|████████████████████████████████████| 79/79 [00:22<00:00,  3.56batch/s]\n"
     ]
    },
    {
     "name": "stdout",
     "output_type": "stream",
     "text": [
      "Epoch [32/100], Train Loss: 0.1308, Train Accuracy: 95.39%, Val Loss: 0.3873, Val Accuracy: 88.24%, ETA: 05:40:23\n"
     ]
    },
    {
     "name": "stderr",
     "output_type": "stream",
     "text": [
      "Epoch 33/100: 100%|█████| 391/391 [04:42<00:00,  1.38batch/s, accuracy=94.4, loss=0.102]\n",
      "Validation: 100%|████████████████████████████████████| 79/79 [00:22<00:00,  3.49batch/s]\n"
     ]
    },
    {
     "name": "stdout",
     "output_type": "stream",
     "text": [
      "Epoch [33/100], Train Loss: 0.1623, Train Accuracy: 94.37%, Val Loss: 0.3549, Val Accuracy: 89.24%, ETA: 05:41:13\n"
     ]
    },
    {
     "name": "stderr",
     "output_type": "stream",
     "text": [
      "Epoch 34/100: 100%|██████| 391/391 [04:49<00:00,  1.35batch/s, accuracy=96, loss=0.0714]\n",
      "Validation: 100%|████████████████████████████████████| 79/79 [00:22<00:00,  3.51batch/s]\n"
     ]
    },
    {
     "name": "stdout",
     "output_type": "stream",
     "text": [
      "Epoch [34/100], Train Loss: 0.1141, Train Accuracy: 96.05%, Val Loss: 0.3715, Val Accuracy: 89.53%, ETA: 05:43:23\n"
     ]
    },
    {
     "name": "stderr",
     "output_type": "stream",
     "text": [
      "Epoch 35/100: 100%|████| 391/391 [04:53<00:00,  1.33batch/s, accuracy=94.5, loss=0.0987]\n",
      "Validation: 100%|████████████████████████████████████| 79/79 [00:22<00:00,  3.56batch/s]\n"
     ]
    },
    {
     "name": "stdout",
     "output_type": "stream",
     "text": [
      "Epoch [35/100], Train Loss: 0.1577, Train Accuracy: 94.50%, Val Loss: 0.3275, Val Accuracy: 90.39%, ETA: 05:41:47\n"
     ]
    },
    {
     "name": "stderr",
     "output_type": "stream",
     "text": [
      "Epoch 36/100: 100%|████| 391/391 [04:46<00:00,  1.36batch/s, accuracy=94.9, loss=0.0922]\n",
      "Validation: 100%|████████████████████████████████████| 79/79 [00:21<00:00,  3.62batch/s]\n"
     ]
    },
    {
     "name": "stdout",
     "output_type": "stream",
     "text": [
      "Epoch [36/100], Train Loss: 0.1474, Train Accuracy: 94.93%, Val Loss: 0.3400, Val Accuracy: 89.57%, ETA: 05:29:22\n"
     ]
    },
    {
     "name": "stderr",
     "output_type": "stream",
     "text": [
      "Epoch 37/100: 100%|████| 391/391 [04:27<00:00,  1.46batch/s, accuracy=94.3, loss=0.0994]\n",
      "Validation: 100%|████████████████████████████████████████████████████████████████████████████████████████████████████████████████████████████████████████████████████████████| 79/79 [00:22<00:00,  3.55batch/s]\n"
     ]
    },
    {
     "name": "stdout",
     "output_type": "stream",
     "text": [
      "Epoch [37/100], Train Loss: 0.1590, Train Accuracy: 94.32%, Val Loss: 0.3414, Val Accuracy: 89.27%, ETA: 05:04:25\n"
     ]
    },
    {
     "name": "stderr",
     "output_type": "stream",
     "text": [
      "Epoch 38/100: 100%|████████████████████████████████████████████████████████████████████████████████████████████████████████████████████████████| 391/391 [04:29<00:00,  1.45batch/s, accuracy=95.9, loss=0.0733]\n",
      "Validation: 100%|████████████████████████████████████████████████████████████████████████████████████████████████████████████████████████████████████████████████████████████| 79/79 [00:22<00:00,  3.55batch/s]\n"
     ]
    },
    {
     "name": "stdout",
     "output_type": "stream",
     "text": [
      "Epoch [38/100], Train Loss: 0.1172, Train Accuracy: 95.91%, Val Loss: 0.3896, Val Accuracy: 88.80%, ETA: 05:01:03\n"
     ]
    },
    {
     "name": "stderr",
     "output_type": "stream",
     "text": [
      "Epoch 39/100: 100%|████████████████████████████████████████████████████████████████████████████████████████████████████████████████████████████| 391/391 [04:27<00:00,  1.46batch/s, accuracy=95.1, loss=0.0875]\n",
      "Validation: 100%|████████████████████████████████████████████████████████████████████████████████████████████████████████████████████████████████████████████████████████████| 79/79 [00:21<00:00,  3.61batch/s]\n"
     ]
    },
    {
     "name": "stdout",
     "output_type": "stream",
     "text": [
      "Epoch [39/100], Train Loss: 0.1399, Train Accuracy: 95.12%, Val Loss: 0.4225, Val Accuracy: 87.17%, ETA: 04:54:18\n"
     ]
    },
    {
     "name": "stderr",
     "output_type": "stream",
     "text": [
      "Epoch 40/100: 100%|█████████████████████████████████████████████████████████████████████████████████████████████████████████████████████████████| 391/391 [04:07<00:00,  1.58batch/s, accuracy=94.4, loss=0.101]\n",
      "Validation: 100%|████████████████████████████████████████████████████████████████████████████████████████████████████████████████████████████████████████████████████████████| 79/79 [00:21<00:00,  3.69batch/s]\n"
     ]
    },
    {
     "name": "stdout",
     "output_type": "stream",
     "text": [
      "Epoch [40/100], Train Loss: 0.1621, Train Accuracy: 94.45%, Val Loss: 0.3777, Val Accuracy: 89.14%, ETA: 04:28:29\n"
     ]
    },
    {
     "name": "stderr",
     "output_type": "stream",
     "text": [
      "Epoch 41/100: 100%|████████████████████████████████████████████████████████████████████████████████████████████████████████████████████████████| 391/391 [04:00<00:00,  1.62batch/s, accuracy=94.6, loss=0.0957]\n",
      "Validation: 100%|████████████████████████████████████████████████████████████████████████████████████████████████████████████████████████████████████████████████████████████| 79/79 [00:20<00:00,  3.78batch/s]\n"
     ]
    },
    {
     "name": "stdout",
     "output_type": "stream",
     "text": [
      "Epoch [41/100], Train Loss: 0.1530, Train Accuracy: 94.63%, Val Loss: 0.3866, Val Accuracy: 88.71%, ETA: 04:17:32\n",
      "saved model at epoch 40\n"
     ]
    },
    {
     "name": "stderr",
     "output_type": "stream",
     "text": [
      "Epoch 42/100: 100%|████████████████████████████████████████████████████████████████████████████████████████████████████████████████████████████| 391/391 [04:02<00:00,  1.62batch/s, accuracy=97.1, loss=0.0538]\n",
      "Validation: 100%|████████████████████████████████████████████████████████████████████████████████████████████████████████████████████████████████████████████████████████████| 79/79 [00:20<00:00,  3.85batch/s]\n"
     ]
    },
    {
     "name": "stdout",
     "output_type": "stream",
     "text": [
      "Epoch [42/100], Train Loss: 0.0860, Train Accuracy: 97.06%, Val Loss: 0.3757, Val Accuracy: 89.45%, ETA: 04:13:52\n"
     ]
    },
    {
     "name": "stderr",
     "output_type": "stream",
     "text": [
      "Epoch 43/100: 100%|████████████████████████████████████████████████████████████████████████████████████████████████████████████████████████████| 391/391 [03:59<00:00,  1.63batch/s, accuracy=95.7, loss=0.0775]\n",
      "Validation: 100%|████████████████████████████████████████████████████████████████████████████████████████████████████████████████████████████████████████████████████████████| 79/79 [00:19<00:00,  4.03batch/s]\n"
     ]
    },
    {
     "name": "stdout",
     "output_type": "stream",
     "text": [
      "Epoch [43/100], Train Loss: 0.1239, Train Accuracy: 95.66%, Val Loss: 0.3646, Val Accuracy: 89.47%, ETA: 04:06:11\n"
     ]
    },
    {
     "name": "stderr",
     "output_type": "stream",
     "text": [
      "Epoch 44/100: 100%|████████████████████████████████████████████████████████████████████████████████████████████████████████████████████████████| 391/391 [03:56<00:00,  1.65batch/s, accuracy=96.2, loss=0.0698]\n",
      "Validation: 100%|████████████████████████████████████████████████████████████████████████████████████████████████████████████████████████████████████████████████████████████| 79/79 [00:19<00:00,  4.04batch/s]\n"
     ]
    },
    {
     "name": "stdout",
     "output_type": "stream",
     "text": [
      "Epoch [44/100], Train Loss: 0.1115, Train Accuracy: 96.23%, Val Loss: 0.3668, Val Accuracy: 89.96%, ETA: 03:58:54\n"
     ]
    },
    {
     "name": "stderr",
     "output_type": "stream",
     "text": [
      "Epoch 45/100: 100%|██████████████████████████████████████████████████████████████████████████████████████████████████████████████████████████████| 391/391 [03:54<00:00,  1.67batch/s, accuracy=96, loss=0.0716]\n",
      "Validation: 100%|████████████████████████████████████████████████████████████████████████████████████████████████████████████████████████████████████████████████████████████| 79/79 [00:19<00:00,  4.08batch/s]\n"
     ]
    },
    {
     "name": "stdout",
     "output_type": "stream",
     "text": [
      "Epoch [45/100], Train Loss: 0.1144, Train Accuracy: 96.02%, Val Loss: 0.3907, Val Accuracy: 88.13%, ETA: 03:52:35\n"
     ]
    },
    {
     "name": "stderr",
     "output_type": "stream",
     "text": [
      "Epoch 46/100: 100%|████████████████████████████████████████████████████████████████████████████████████████████████████████████████████████████| 391/391 [03:53<00:00,  1.67batch/s, accuracy=95.8, loss=0.0749]\n",
      "Validation: 100%|████████████████████████████████████████████████████████████████████████████████████████████████████████████████████████████████████████████████████████████| 79/79 [00:19<00:00,  3.99batch/s]\n"
     ]
    },
    {
     "name": "stdout",
     "output_type": "stream",
     "text": [
      "Epoch [46/100], Train Loss: 0.1198, Train Accuracy: 95.84%, Val Loss: 0.3752, Val Accuracy: 89.32%, ETA: 03:48:09\n"
     ]
    },
    {
     "name": "stderr",
     "output_type": "stream",
     "text": [
      "Epoch 47/100: 100%|████████████████████████████████████████████████████████████████████████████████████████████████████████████████████████████| 391/391 [03:50<00:00,  1.70batch/s, accuracy=95.4, loss=0.0813]\n",
      "Validation: 100%|████████████████████████████████████████████████████████████████████████████████████████████████████████████████████████████████████████████████████████████| 79/79 [00:19<00:00,  4.12batch/s]\n"
     ]
    },
    {
     "name": "stdout",
     "output_type": "stream",
     "text": [
      "Epoch [47/100], Train Loss: 0.1299, Train Accuracy: 95.44%, Val Loss: 0.3779, Val Accuracy: 89.47%, ETA: 03:40:31\n"
     ]
    },
    {
     "name": "stderr",
     "output_type": "stream",
     "text": [
      "Epoch 48/100: 100%|█████████████████████████████████████████████████████████████████████████████████████████████████████████████████████████████| 391/391 [03:49<00:00,  1.70batch/s, accuracy=93.7, loss=0.111]\n",
      "Validation: 100%|████████████████████████████████████████████████████████████████████████████████████████████████████████████████████████████████████████████████████████████| 79/79 [00:18<00:00,  4.21batch/s]\n"
     ]
    },
    {
     "name": "stdout",
     "output_type": "stream",
     "text": [
      "Epoch [48/100], Train Loss: 0.1779, Train Accuracy: 93.71%, Val Loss: 0.3402, Val Accuracy: 89.56%, ETA: 03:35:20\n"
     ]
    },
    {
     "name": "stderr",
     "output_type": "stream",
     "text": [
      "Epoch 49/100: 100%|█████████████████████████████████████████████████████████████████████████████████████████████████████████████████████████████| 391/391 [03:47<00:00,  1.72batch/s, accuracy=94.2, loss=0.104]\n",
      "Validation: 100%|████████████████████████████████████████████████████████████████████████████████████████████████████████████████████████████████████████████████████████████| 79/79 [00:18<00:00,  4.22batch/s]\n"
     ]
    },
    {
     "name": "stdout",
     "output_type": "stream",
     "text": [
      "Epoch [49/100], Train Loss: 0.1667, Train Accuracy: 94.23%, Val Loss: 0.3937, Val Accuracy: 88.70%, ETA: 03:29:00\n"
     ]
    },
    {
     "name": "stderr",
     "output_type": "stream",
     "text": [
      "Epoch 50/100: 100%|████████████████████████████████████████████████████████████████████████████████████████████████████████████████████████████| 391/391 [03:46<00:00,  1.73batch/s, accuracy=95.2, loss=0.0863]\n",
      "Validation: 100%|████████████████████████████████████████████████████████████████████████████████████████████████████████████████████████████████████████████████████████████| 79/79 [00:19<00:00,  4.15batch/s]\n"
     ]
    },
    {
     "name": "stdout",
     "output_type": "stream",
     "text": [
      "Epoch [50/100], Train Loss: 0.1379, Train Accuracy: 95.17%, Val Loss: 0.3531, Val Accuracy: 89.44%, ETA: 03:24:42\n"
     ]
    },
    {
     "name": "stderr",
     "output_type": "stream",
     "text": [
      "Epoch 51/100: 100%|████████████████████████████████████████████████████████████████████████████████████████████████████████████████████████████| 391/391 [03:45<00:00,  1.74batch/s, accuracy=95.8, loss=0.0759]\n",
      "Validation: 100%|████████████████████████████████████████████████████████████████████████████████████████████████████████████████████████████████████████████████████████████| 79/79 [00:18<00:00,  4.27batch/s]\n"
     ]
    },
    {
     "name": "stdout",
     "output_type": "stream",
     "text": [
      "Epoch [51/100], Train Loss: 0.1214, Train Accuracy: 95.80%, Val Loss: 0.4268, Val Accuracy: 87.39%, ETA: 03:18:55\n",
      "saved model at epoch 50\n"
     ]
    },
    {
     "name": "stderr",
     "output_type": "stream",
     "text": [
      "Epoch 52/100: 100%|██████████████████████████████████████████████████████████████████████████████████████████████████████████████████████████████| 391/391 [03:43<00:00,  1.75batch/s, accuracy=95, loss=0.0891]\n",
      "Validation: 100%|████████████████████████████████████████████████████████████████████████████████████████████████████████████████████████████████████████████████████████████| 79/79 [00:18<00:00,  4.27batch/s]\n"
     ]
    },
    {
     "name": "stdout",
     "output_type": "stream",
     "text": [
      "Epoch [52/100], Train Loss: 0.1424, Train Accuracy: 95.05%, Val Loss: 0.3598, Val Accuracy: 89.62%, ETA: 03:14:00\n"
     ]
    },
    {
     "name": "stderr",
     "output_type": "stream",
     "text": [
      "Epoch 53/100: 100%|███████████████████████████████████████████████████████████████████████████████████████████████████████████████████████████████| 391/391 [03:43<00:00,  1.75batch/s, accuracy=92, loss=0.144]\n",
      "Validation: 100%|████████████████████████████████████████████████████████████████████████████████████████████████████████████████████████████████████████████████████████████| 79/79 [00:18<00:00,  4.30batch/s]\n"
     ]
    },
    {
     "name": "stdout",
     "output_type": "stream",
     "text": [
      "Epoch [53/100], Train Loss: 0.2300, Train Accuracy: 92.02%, Val Loss: 0.4632, Val Accuracy: 85.05%, ETA: 03:09:24\n"
     ]
    },
    {
     "name": "stderr",
     "output_type": "stream",
     "text": [
      "Epoch 54/100: 100%|█████████████████████████████████████████████████████████████████████████████████████████████████████████████████████████████| 391/391 [03:43<00:00,  1.75batch/s, accuracy=91.9, loss=0.143]\n",
      "Validation: 100%|████████████████████████████████████████████████████████████████████████████████████████████████████████████████████████████████████████████████████████████| 79/79 [00:18<00:00,  4.27batch/s]\n"
     ]
    },
    {
     "name": "stdout",
     "output_type": "stream",
     "text": [
      "Epoch [54/100], Train Loss: 0.2289, Train Accuracy: 91.86%, Val Loss: 0.4082, Val Accuracy: 87.02%, ETA: 03:05:17\n"
     ]
    },
    {
     "name": "stderr",
     "output_type": "stream",
     "text": [
      "Epoch 55/100: 100%|███████████████████████████████████████████████████████████████████████████████████████████████████████████████████████████████| 391/391 [03:42<00:00,  1.76batch/s, accuracy=94, loss=0.109]\n",
      "Validation: 100%|████████████████████████████████████████████████████████████████████████████████████████████████████████████████████████████████████████████████████████████| 79/79 [00:18<00:00,  4.29batch/s]\n"
     ]
    },
    {
     "name": "stdout",
     "output_type": "stream",
     "text": [
      "Epoch [55/100], Train Loss: 0.1738, Train Accuracy: 94.01%, Val Loss: 0.3382, Val Accuracy: 89.34%, ETA: 03:00:48\n"
     ]
    },
    {
     "name": "stderr",
     "output_type": "stream",
     "text": [
      "Epoch 56/100: 100%|█████████████████████████████████████████████████████████████████████████████████████████████████████████████████████████████| 391/391 [03:43<00:00,  1.75batch/s, accuracy=92.2, loss=0.138]\n",
      "Validation: 100%|████████████████████████████████████████████████████████████████████████████████████████████████████████████████████████████████████████████████████████████| 79/79 [00:18<00:00,  4.23batch/s]\n"
     ]
    },
    {
     "name": "stdout",
     "output_type": "stream",
     "text": [
      "Epoch [56/100], Train Loss: 0.2204, Train Accuracy: 92.24%, Val Loss: 0.4987, Val Accuracy: 83.98%, ETA: 02:57:50\n"
     ]
    },
    {
     "name": "stderr",
     "output_type": "stream",
     "text": [
      "Epoch 57/100: 100%|█████████████████████████████████████████████████████████████████████████████████████████████████████████████████████████████| 391/391 [03:44<00:00,  1.74batch/s, accuracy=89.8, loss=0.183]\n",
      "Validation: 100%|████████████████████████████████████████████████████████████████████████████████████████████████████████████████████████████████████████████████████████████| 79/79 [00:18<00:00,  4.23batch/s]\n"
     ]
    },
    {
     "name": "stdout",
     "output_type": "stream",
     "text": [
      "Epoch [57/100], Train Loss: 0.2933, Train Accuracy: 89.78%, Val Loss: 0.5728, Val Accuracy: 80.88%, ETA: 02:54:34\n"
     ]
    },
    {
     "name": "stderr",
     "output_type": "stream",
     "text": [
      "Epoch 58/100: 100%|█████████████████████████████████████████████████████████████████████████████████████████████████████████████████████████████| 391/391 [03:46<00:00,  1.73batch/s, accuracy=88.2, loss=0.211]\n",
      "Validation: 100%|████████████████████████████████████████████████████████████████████████████████████████████████████████████████████████████████████████████████████████████| 79/79 [00:18<00:00,  4.19batch/s]\n"
     ]
    },
    {
     "name": "stdout",
     "output_type": "stream",
     "text": [
      "Epoch [58/100], Train Loss: 0.3366, Train Accuracy: 88.22%, Val Loss: 0.5846, Val Accuracy: 81.70%, ETA: 02:51:51\n"
     ]
    },
    {
     "name": "stderr",
     "output_type": "stream",
     "text": [
      "Epoch 59/100: 100%|█████████████████████████████████████████████████████████████████████████████████████████████████████████████████████████████| 391/391 [03:48<00:00,  1.71batch/s, accuracy=87.7, loss=0.216]\n",
      "Validation: 100%|████████████████████████████████████████████████████████████████████████████████████████████████████████████████████████████████████████████████████████████| 79/79 [00:19<00:00,  4.15batch/s]\n"
     ]
    },
    {
     "name": "stdout",
     "output_type": "stream",
     "text": [
      "Epoch [59/100], Train Loss: 0.3453, Train Accuracy: 87.65%, Val Loss: 0.4427, Val Accuracy: 85.17%, ETA: 02:48:55\n"
     ]
    },
    {
     "name": "stderr",
     "output_type": "stream",
     "text": [
      "Epoch 60/100: 100%|█████████████████████████████████████████████████████████████████████████████████████████████████████████████████████████████| 391/391 [03:48<00:00,  1.71batch/s, accuracy=91.8, loss=0.144]\n",
      "Validation: 100%|████████████████████████████████████████████████████████████████████████████████████████████████████████████████████████████████████████████████████████████| 79/79 [00:18<00:00,  4.17batch/s]\n"
     ]
    },
    {
     "name": "stdout",
     "output_type": "stream",
     "text": [
      "Epoch [60/100], Train Loss: 0.2294, Train Accuracy: 91.82%, Val Loss: 0.3755, Val Accuracy: 88.10%, ETA: 02:44:42\n"
     ]
    },
    {
     "name": "stderr",
     "output_type": "stream",
     "text": [
      "Epoch 61/100: 100%|██████████████████████████████████████████████████████████████████████████████████████████████████████████████████████████████| 391/391 [03:48<00:00,  1.71batch/s, accuracy=92.8, loss=0.13]\n",
      "Validation: 100%|████████████████████████████████████████████████████████████████████████████████████████████████████████████████████████████████████████████████████████████| 79/79 [00:19<00:00,  4.12batch/s]\n"
     ]
    },
    {
     "name": "stdout",
     "output_type": "stream",
     "text": [
      "Epoch [61/100], Train Loss: 0.2075, Train Accuracy: 92.80%, Val Loss: 0.3903, Val Accuracy: 87.25%, ETA: 02:40:48\n",
      "saved model at epoch 60\n"
     ]
    },
    {
     "name": "stderr",
     "output_type": "stream",
     "text": [
      "Epoch 62/100: 100%|█████████████████████████████████████████████████████████████████████████████████████████████████████████████████████████████| 391/391 [03:49<00:00,  1.70batch/s, accuracy=93.3, loss=0.117]\n",
      "Validation: 100%|████████████████████████████████████████████████████████████████████████████████████████████████████████████████████████████████████████████████████████████| 79/79 [00:18<00:00,  4.24batch/s]\n"
     ]
    },
    {
     "name": "stdout",
     "output_type": "stream",
     "text": [
      "Epoch [62/100], Train Loss: 0.1875, Train Accuracy: 93.26%, Val Loss: 0.4089, Val Accuracy: 87.73%, ETA: 02:37:26\n"
     ]
    },
    {
     "name": "stderr",
     "output_type": "stream",
     "text": [
      "Epoch 63/100: 100%|█████████████████████████████████████████████████████████████████████████████████████████████████████████████████████████████| 391/391 [03:50<00:00,  1.70batch/s, accuracy=93.8, loss=0.109]\n",
      "Validation: 100%|████████████████████████████████████████████████████████████████████████████████████████████████████████████████████████████████████████████████████████████| 79/79 [00:19<00:00,  4.07batch/s]\n"
     ]
    },
    {
     "name": "stdout",
     "output_type": "stream",
     "text": [
      "Epoch [63/100], Train Loss: 0.1747, Train Accuracy: 93.82%, Val Loss: 0.4593, Val Accuracy: 85.44%, ETA: 02:34:09\n"
     ]
    },
    {
     "name": "stderr",
     "output_type": "stream",
     "text": [
      "Epoch 64/100: 100%|█████████████████████████████████████████████████████████████████████████████████████████████████████████████████████████████| 391/391 [03:51<00:00,  1.69batch/s, accuracy=89.4, loss=0.189]\n",
      "Validation: 100%|████████████████████████████████████████████████████████████████████████████████████████████████████████████████████████████████████████████████████████████| 79/79 [00:19<00:00,  4.08batch/s]\n"
     ]
    },
    {
     "name": "stdout",
     "output_type": "stream",
     "text": [
      "Epoch [64/100], Train Loss: 0.3029, Train Accuracy: 89.37%, Val Loss: 0.4955, Val Accuracy: 83.83%, ETA: 02:30:34\n"
     ]
    },
    {
     "name": "stderr",
     "output_type": "stream",
     "text": [
      "Epoch 65/100: 100%|█████████████████████████████████████████████████████████████████████████████████████████████████████████████████████████████| 391/391 [03:50<00:00,  1.70batch/s, accuracy=84.5, loss=0.275]\n",
      "Validation: 100%|████████████████████████████████████████████████████████████████████████████████████████████████████████████████████████████████████████████████████████████| 79/79 [00:19<00:00,  4.03batch/s]\n"
     ]
    },
    {
     "name": "stdout",
     "output_type": "stream",
     "text": [
      "Epoch [65/100], Train Loss: 0.4394, Train Accuracy: 84.55%, Val Loss: 0.4680, Val Accuracy: 84.96%, ETA: 02:25:58\n"
     ]
    },
    {
     "name": "stderr",
     "output_type": "stream",
     "text": [
      "Epoch 66/100: 100%|█████████████████████████████████████████████████████████████████████████████████████████████████████████████████████████████| 391/391 [03:51<00:00,  1.69batch/s, accuracy=89.2, loss=0.192]\n",
      "Validation: 100%|████████████████████████████████████████████████████████████████████████████████████████████████████████████████████████████████████████████████████████████| 79/79 [00:18<00:00,  4.18batch/s]\n"
     ]
    },
    {
     "name": "stdout",
     "output_type": "stream",
     "text": [
      "Epoch [66/100], Train Loss: 0.3072, Train Accuracy: 89.24%, Val Loss: 0.5443, Val Accuracy: 81.53%, ETA: 02:21:57\n"
     ]
    },
    {
     "name": "stderr",
     "output_type": "stream",
     "text": [
      "Epoch 67/100: 100%|█████████████████████████████████████████████████████████████████████████████████████████████████████████████████████████████| 391/391 [03:50<00:00,  1.70batch/s, accuracy=83.5, loss=0.293]\n",
      "Validation: 100%|████████████████████████████████████████████████████████████████████████████████████████████████████████████████████████████████████████████████████████████| 79/79 [00:18<00:00,  4.17batch/s]\n"
     ]
    },
    {
     "name": "stdout",
     "output_type": "stream",
     "text": [
      "Epoch [67/100], Train Loss: 0.4684, Train Accuracy: 83.52%, Val Loss: 0.6626, Val Accuracy: 77.14%, ETA: 02:16:58\n"
     ]
    },
    {
     "name": "stderr",
     "output_type": "stream",
     "text": [
      "Epoch 68/100: 100%|█████████████████████████████████████████████████████████████████████████████████████████████████████████████████████████████| 391/391 [03:50<00:00,  1.70batch/s, accuracy=85.1, loss=0.264]\n",
      "Validation: 100%|████████████████████████████████████████████████████████████████████████████████████████████████████████████████████████████████████████████████████████████| 79/79 [00:19<00:00,  4.08batch/s]\n"
     ]
    },
    {
     "name": "stdout",
     "output_type": "stream",
     "text": [
      "Epoch [68/100], Train Loss: 0.4213, Train Accuracy: 85.08%, Val Loss: 0.4925, Val Accuracy: 84.09%, ETA: 02:13:01\n"
     ]
    },
    {
     "name": "stderr",
     "output_type": "stream",
     "text": [
      "Epoch 69/100: 100%|███████████████████████████████████████████████████████████████████████████████████████████████████████████████████████████████| 391/391 [03:48<00:00,  1.71batch/s, accuracy=90, loss=0.177]\n",
      "Validation: 100%|████████████████████████████████████████████████████████████████████████████████████████████████████████████████████████████████████████████████████████████| 79/79 [00:19<00:00,  4.12batch/s]\n"
     ]
    },
    {
     "name": "stdout",
     "output_type": "stream",
     "text": [
      "Epoch [69/100], Train Loss: 0.2836, Train Accuracy: 90.00%, Val Loss: 0.4188, Val Accuracy: 86.65%, ETA: 02:08:02\n"
     ]
    },
    {
     "name": "stderr",
     "output_type": "stream",
     "text": [
      "Epoch 70/100: 100%|█████████████████████████████████████████████████████████████████████████████████████████████████████████████████████████████| 391/391 [03:48<00:00,  1.71batch/s, accuracy=83.5, loss=0.297]\n",
      "Validation: 100%|████████████████████████████████████████████████████████████████████████████████████████████████████████████████████████████████████████████████████████████| 79/79 [00:19<00:00,  4.08batch/s]\n"
     ]
    },
    {
     "name": "stdout",
     "output_type": "stream",
     "text": [
      "Epoch [70/100], Train Loss: 0.4751, Train Accuracy: 83.53%, Val Loss: 0.4856, Val Accuracy: 83.78%, ETA: 02:03:45\n"
     ]
    },
    {
     "name": "stderr",
     "output_type": "stream",
     "text": [
      "Epoch 71/100: 100%|█████████████████████████████████████████████████████████████████████████████████████████████████████████████████████████████| 391/391 [03:47<00:00,  1.72batch/s, accuracy=86.7, loss=0.238]\n",
      "Validation: 100%|████████████████████████████████████████████████████████████████████████████████████████████████████████████████████████████████████████████████████████████| 79/79 [00:18<00:00,  4.16batch/s]\n"
     ]
    },
    {
     "name": "stdout",
     "output_type": "stream",
     "text": [
      "Epoch [71/100], Train Loss: 0.3807, Train Accuracy: 86.68%, Val Loss: 0.5017, Val Accuracy: 83.41%, ETA: 01:59:22\n",
      "saved model at epoch 70\n"
     ]
    },
    {
     "name": "stderr",
     "output_type": "stream",
     "text": [
      "Epoch 72/100: 100%|██████████████████████████████████████████████████████████████████████████████████████████████████████████████████████████████| 391/391 [03:48<00:00,  1.71batch/s, accuracy=86.6, loss=0.24]\n",
      "Validation: 100%|████████████████████████████████████████████████████████████████████████████████████████████████████████████████████████████████████████████████████████████| 79/79 [00:19<00:00,  4.14batch/s]\n"
     ]
    },
    {
     "name": "stdout",
     "output_type": "stream",
     "text": [
      "Epoch [72/100], Train Loss: 0.3833, Train Accuracy: 86.62%, Val Loss: 0.4652, Val Accuracy: 84.79%, ETA: 01:55:32\n"
     ]
    },
    {
     "name": "stderr",
     "output_type": "stream",
     "text": [
      "Epoch 73/100: 100%|███████████████████████████████████████████████████████████████████████████████████████████████████████████████████████████████| 391/391 [03:50<00:00,  1.70batch/s, accuracy=86, loss=0.248]\n",
      "Validation: 100%|████████████████████████████████████████████████████████████████████████████████████████████████████████████████████████████████████████████████████████████| 79/79 [00:19<00:00,  4.14batch/s]\n"
     ]
    },
    {
     "name": "stdout",
     "output_type": "stream",
     "text": [
      "Epoch [73/100], Train Loss: 0.3960, Train Accuracy: 85.99%, Val Loss: 0.4222, Val Accuracy: 86.07%, ETA: 01:52:11\n"
     ]
    },
    {
     "name": "stderr",
     "output_type": "stream",
     "text": [
      "Epoch 74/100: 100%|█████████████████████████████████████████████████████████████████████████████████████████████████████████████████████████████| 391/391 [03:48<00:00,  1.71batch/s, accuracy=84.8, loss=0.272]\n",
      "Validation: 100%|████████████████████████████████████████████████████████████████████████████████████████████████████████████████████████████████████████████████████████████| 79/79 [00:18<00:00,  4.17batch/s]\n"
     ]
    },
    {
     "name": "stdout",
     "output_type": "stream",
     "text": [
      "Epoch [74/100], Train Loss: 0.4342, Train Accuracy: 84.78%, Val Loss: 0.6127, Val Accuracy: 78.79%, ETA: 01:47:12\n"
     ]
    },
    {
     "name": "stderr",
     "output_type": "stream",
     "text": [
      "Epoch 75/100: 100%|███████████████████████████████████████████████████████████████████████████████████████████████████████████████████████████████| 391/391 [03:49<00:00,  1.70batch/s, accuracy=84, loss=0.283]\n",
      "Validation: 100%|████████████████████████████████████████████████████████████████████████████████████████████████████████████████████████████████████████████████████████████| 79/79 [00:18<00:00,  4.17batch/s]\n"
     ]
    },
    {
     "name": "stdout",
     "output_type": "stream",
     "text": [
      "Epoch [75/100], Train Loss: 0.4520, Train Accuracy: 83.96%, Val Loss: 0.6791, Val Accuracy: 76.99%, ETA: 01:43:29\n"
     ]
    },
    {
     "name": "stderr",
     "output_type": "stream",
     "text": [
      "Epoch 76/100: 100%|███████████████████████████████████████████████████████████████████████████████████████████████████████████████████████████████| 391/391 [03:48<00:00,  1.71batch/s, accuracy=85, loss=0.268]\n",
      "Validation: 100%|████████████████████████████████████████████████████████████████████████████████████████████████████████████████████████████████████████████████████████████| 79/79 [00:18<00:00,  4.19batch/s]\n"
     ]
    },
    {
     "name": "stdout",
     "output_type": "stream",
     "text": [
      "Epoch [76/100], Train Loss: 0.4285, Train Accuracy: 84.97%, Val Loss: 0.5385, Val Accuracy: 82.33%, ETA: 01:39:02\n"
     ]
    },
    {
     "name": "stderr",
     "output_type": "stream",
     "text": [
      "Epoch 77/100: 100%|█████████████████████████████████████████████████████████████████████████████████████████████████████████████████████████████| 391/391 [03:47<00:00,  1.72batch/s, accuracy=86.2, loss=0.246]\n",
      "Validation: 100%|████████████████████████████████████████████████████████████████████████████████████████████████████████████████████████████████████████████████████████████| 79/79 [00:18<00:00,  4.19batch/s]\n"
     ]
    },
    {
     "name": "stdout",
     "output_type": "stream",
     "text": [
      "Epoch [77/100], Train Loss: 0.3935, Train Accuracy: 86.23%, Val Loss: 0.5360, Val Accuracy: 83.09%, ETA: 01:34:31\n"
     ]
    },
    {
     "name": "stderr",
     "output_type": "stream",
     "text": [
      "Epoch 78/100: 100%|█████████████████████████████████████████████████████████████████████████████████████████████████████████████████████████████| 391/391 [03:46<00:00,  1.73batch/s, accuracy=77.8, loss=0.394]\n",
      "Validation: 100%|████████████████████████████████████████████████████████████████████████████████████████████████████████████████████████████████████████████████████████████| 79/79 [00:18<00:00,  4.22batch/s]\n"
     ]
    },
    {
     "name": "stdout",
     "output_type": "stream",
     "text": [
      "Epoch [78/100], Train Loss: 0.6297, Train Accuracy: 77.82%, Val Loss: 0.5370, Val Accuracy: 82.02%, ETA: 01:29:49\n"
     ]
    },
    {
     "name": "stderr",
     "output_type": "stream",
     "text": [
      "Epoch 79/100: 100%|█████████████████████████████████████████████████████████████████████████████████████████████████████████████████████████████| 391/391 [03:46<00:00,  1.73batch/s, accuracy=82.1, loss=0.319]\n",
      "Validation: 100%|████████████████████████████████████████████████████████████████████████████████████████████████████████████████████████████████████████████████████████████| 79/79 [00:18<00:00,  4.18batch/s]\n"
     ]
    },
    {
     "name": "stdout",
     "output_type": "stream",
     "text": [
      "Epoch [79/100], Train Loss: 0.5093, Train Accuracy: 82.06%, Val Loss: 0.6387, Val Accuracy: 78.31%, ETA: 01:25:56\n"
     ]
    },
    {
     "name": "stderr",
     "output_type": "stream",
     "text": [
      "Epoch 80/100: 100%|█████████████████████████████████████████████████████████████████████████████████████████████████████████████████████████████| 391/391 [03:45<00:00,  1.73batch/s, accuracy=80.8, loss=0.341]\n",
      "Validation: 100%|████████████████████████████████████████████████████████████████████████████████████████████████████████████████████████████████████████████████████████████| 79/79 [00:18<00:00,  4.19batch/s]\n"
     ]
    },
    {
     "name": "stdout",
     "output_type": "stream",
     "text": [
      "Epoch [80/100], Train Loss: 0.5445, Train Accuracy: 80.76%, Val Loss: 1.0590, Val Accuracy: 62.51%, ETA: 01:21:26\n"
     ]
    },
    {
     "name": "stderr",
     "output_type": "stream",
     "text": [
      "Epoch 81/100: 100%|███████████████████████████████████████████████████████████████████████████████████████████████████████████████████████████████| 391/391 [03:45<00:00,  1.73batch/s, accuracy=78, loss=0.389]\n",
      "Validation: 100%|████████████████████████████████████████████████████████████████████████████████████████████████████████████████████████████████████████████████████████████| 79/79 [00:18<00:00,  4.25batch/s]\n"
     ]
    },
    {
     "name": "stdout",
     "output_type": "stream",
     "text": [
      "Epoch [81/100], Train Loss: 0.6222, Train Accuracy: 78.02%, Val Loss: 0.6625, Val Accuracy: 77.48%, ETA: 01:17:24\n",
      "saved model at epoch 80\n"
     ]
    },
    {
     "name": "stderr",
     "output_type": "stream",
     "text": [
      "Epoch 82/100: 100%|█████████████████████████████████████████████████████████████████████████████████████████████████████████████████████████████| 391/391 [03:44<00:00,  1.74batch/s, accuracy=80.9, loss=0.341]\n",
      "Validation: 100%|████████████████████████████████████████████████████████████████████████████████████████████████████████████████████████████████████████████████████████████| 79/79 [00:18<00:00,  4.25batch/s]\n"
     ]
    },
    {
     "name": "stdout",
     "output_type": "stream",
     "text": [
      "Epoch [82/100], Train Loss: 0.5450, Train Accuracy: 80.89%, Val Loss: 0.6661, Val Accuracy: 77.49%, ETA: 01:12:59\n"
     ]
    },
    {
     "name": "stderr",
     "output_type": "stream",
     "text": [
      "Epoch 83/100: 100%|█████████████████████████████████████████████████████████████████████████████████████████████████████████████████████████████| 391/391 [03:44<00:00,  1.74batch/s, accuracy=83.6, loss=0.289]\n",
      "Validation: 100%|████████████████████████████████████████████████████████████████████████████████████████████████████████████████████████████████████████████████████████████| 79/79 [00:18<00:00,  4.24batch/s]\n"
     ]
    },
    {
     "name": "stdout",
     "output_type": "stream",
     "text": [
      "Epoch [83/100], Train Loss: 0.4614, Train Accuracy: 83.57%, Val Loss: 0.5420, Val Accuracy: 81.73%, ETA: 01:08:51\n"
     ]
    },
    {
     "name": "stderr",
     "output_type": "stream",
     "text": [
      "Epoch 84/100: 100%|█████████████████████████████████████████████████████████████████████████████████████████████████████████████████████████████| 391/391 [03:43<00:00,  1.75batch/s, accuracy=85.8, loss=0.254]\n",
      "Validation: 100%|████████████████████████████████████████████████████████████████████████████████████████████████████████████████████████████████████████████████████████████| 79/79 [00:18<00:00,  4.32batch/s]\n"
     ]
    },
    {
     "name": "stdout",
     "output_type": "stream",
     "text": [
      "Epoch [84/100], Train Loss: 0.4062, Train Accuracy: 85.75%, Val Loss: 0.4913, Val Accuracy: 83.07%, ETA: 01:04:30\n"
     ]
    },
    {
     "name": "stderr",
     "output_type": "stream",
     "text": [
      "Epoch 85/100: 100%|█████████████████████████████████████████████████████████████████████████████████████████████████████████████████████████████| 391/391 [03:43<00:00,  1.75batch/s, accuracy=80.7, loss=0.345]\n",
      "Validation: 100%|████████████████████████████████████████████████████████████████████████████████████████████████████████████████████████████████████████████████████████████| 79/79 [00:18<00:00,  4.32batch/s]\n"
     ]
    },
    {
     "name": "stdout",
     "output_type": "stream",
     "text": [
      "Epoch [85/100], Train Loss: 0.5519, Train Accuracy: 80.68%, Val Loss: 0.7231, Val Accuracy: 75.50%, ETA: 01:00:30\n"
     ]
    },
    {
     "name": "stderr",
     "output_type": "stream",
     "text": [
      "Epoch 86/100: 100%|█████████████████████████████████████████████████████████████████████████████████████████████████████████████████████████████| 391/391 [03:42<00:00,  1.76batch/s, accuracy=78.9, loss=0.373]\n",
      "Validation: 100%|████████████████████████████████████████████████████████████████████████████████████████████████████████████████████████████████████████████████████████████| 79/79 [00:18<00:00,  4.29batch/s]\n"
     ]
    },
    {
     "name": "stdout",
     "output_type": "stream",
     "text": [
      "Epoch [86/100], Train Loss: 0.5958, Train Accuracy: 78.93%, Val Loss: 0.8675, Val Accuracy: 70.52%, ETA: 00:56:15\n"
     ]
    },
    {
     "name": "stderr",
     "output_type": "stream",
     "text": [
      "Epoch 87/100: 100%|█████████████████████████████████████████████████████████████████████████████████████████████████████████████████████████████| 391/391 [03:42<00:00,  1.75batch/s, accuracy=77.3, loss=0.403]\n",
      "Validation: 100%|████████████████████████████████████████████████████████████████████████████████████████████████████████████████████████████████████████████████████████████| 79/79 [00:18<00:00,  4.31batch/s]\n"
     ]
    },
    {
     "name": "stdout",
     "output_type": "stream",
     "text": [
      "Epoch [87/100], Train Loss: 0.6445, Train Accuracy: 77.32%, Val Loss: 0.7822, Val Accuracy: 72.87%, ETA: 00:52:15\n"
     ]
    },
    {
     "name": "stderr",
     "output_type": "stream",
     "text": [
      "Epoch 88/100: 100%|█████████████████████████████████████████████████████████████████████████████████████████████████████████████████████████████| 391/391 [03:42<00:00,  1.75batch/s, accuracy=78.1, loss=0.387]\n",
      "Validation: 100%|████████████████████████████████████████████████████████████████████████████████████████████████████████████████████████████████████████████████████████████| 79/79 [00:18<00:00,  4.32batch/s]\n"
     ]
    },
    {
     "name": "stdout",
     "output_type": "stream",
     "text": [
      "Epoch [88/100], Train Loss: 0.6181, Train Accuracy: 78.13%, Val Loss: 0.6156, Val Accuracy: 78.84%, ETA: 00:48:14\n"
     ]
    },
    {
     "name": "stderr",
     "output_type": "stream",
     "text": [
      "Epoch 89/100: 100%|█████████████████████████████████████████████████████████████████████████████████████████████████████████████████████████████| 391/391 [03:42<00:00,  1.76batch/s, accuracy=70.3, loss=0.523]\n",
      "Validation: 100%|████████████████████████████████████████████████████████████████████████████████████████████████████████████████████████████████████████████████████████████| 79/79 [00:18<00:00,  4.34batch/s]\n"
     ]
    },
    {
     "name": "stdout",
     "output_type": "stream",
     "text": [
      "Epoch [89/100], Train Loss: 0.8367, Train Accuracy: 70.32%, Val Loss: 0.5261, Val Accuracy: 81.66%, ETA: 00:44:03\n"
     ]
    },
    {
     "name": "stderr",
     "output_type": "stream",
     "text": [
      "Epoch 90/100: 100%|█████████████████████████████████████████████████████████████████████████████████████████████████████████████████████████████| 391/391 [03:42<00:00,  1.76batch/s, accuracy=80.6, loss=0.345]\n",
      "Validation: 100%|████████████████████████████████████████████████████████████████████████████████████████████████████████████████████████████████████████████████████████████| 79/79 [00:18<00:00,  4.30batch/s]\n"
     ]
    },
    {
     "name": "stdout",
     "output_type": "stream",
     "text": [
      "Epoch [90/100], Train Loss: 0.5509, Train Accuracy: 80.59%, Val Loss: 0.6350, Val Accuracy: 77.97%, ETA: 00:40:08\n"
     ]
    },
    {
     "name": "stderr",
     "output_type": "stream",
     "text": [
      "Epoch 91/100: 100%|█████████████████████████████████████████████████████████████████████████████████████████████████████████████████████████████| 391/391 [03:42<00:00,  1.76batch/s, accuracy=81.1, loss=0.334]\n",
      "Validation: 100%|████████████████████████████████████████████████████████████████████████████████████████████████████████████████████████████████████████████████████████████| 79/79 [00:18<00:00,  4.26batch/s]\n"
     ]
    },
    {
     "name": "stdout",
     "output_type": "stream",
     "text": [
      "Epoch [91/100], Train Loss: 0.5339, Train Accuracy: 81.12%, Val Loss: 0.5540, Val Accuracy: 80.79%, ETA: 00:36:07\n",
      "saved model at epoch 90\n"
     ]
    },
    {
     "name": "stderr",
     "output_type": "stream",
     "text": [
      "Epoch 92/100: 100%|██████████████████████████████████████████████████████████████████████████████████████████████████████████████████████████████| 391/391 [03:42<00:00,  1.76batch/s, accuracy=83.7, loss=0.29]\n",
      "Validation: 100%|████████████████████████████████████████████████████████████████████████████████████████████████████████████████████████████████████████████████████████████| 79/79 [00:18<00:00,  4.31batch/s]\n"
     ]
    },
    {
     "name": "stdout",
     "output_type": "stream",
     "text": [
      "Epoch [92/100], Train Loss: 0.4633, Train Accuracy: 83.67%, Val Loss: 0.5397, Val Accuracy: 81.39%, ETA: 00:32:03\n"
     ]
    },
    {
     "name": "stderr",
     "output_type": "stream",
     "text": [
      "Epoch 93/100: 100%|█████████████████████████████████████████████████████████████████████████████████████████████████████████████████████████████| 391/391 [03:42<00:00,  1.76batch/s, accuracy=82.1, loss=0.322]\n",
      "Validation: 100%|████████████████████████████████████████████████████████████████████████████████████████████████████████████████████████████████████████████████████████████| 79/79 [00:18<00:00,  4.28batch/s]\n"
     ]
    },
    {
     "name": "stdout",
     "output_type": "stream",
     "text": [
      "Epoch [93/100], Train Loss: 0.5145, Train Accuracy: 82.06%, Val Loss: 0.7628, Val Accuracy: 73.96%, ETA: 00:28:03\n"
     ]
    },
    {
     "name": "stderr",
     "output_type": "stream",
     "text": [
      "Epoch 94/100: 100%|█████████████████████████████████████████████████████████████████████████████████████████████████████████████████████████████| 391/391 [03:41<00:00,  1.76batch/s, accuracy=75.6, loss=0.431]\n",
      "Validation: 100%|████████████████████████████████████████████████████████████████████████████████████████████████████████████████████████████████████████████████████████████| 79/79 [00:18<00:00,  4.33batch/s]\n"
     ]
    },
    {
     "name": "stdout",
     "output_type": "stream",
     "text": [
      "Epoch [94/100], Train Loss: 0.6887, Train Accuracy: 75.63%, Val Loss: 0.8246, Val Accuracy: 71.32%, ETA: 00:24:00\n"
     ]
    },
    {
     "name": "stderr",
     "output_type": "stream",
     "text": [
      "Epoch 95/100: 100%|█████████████████████████████████████████████████████████████████████████████████████████████████████████████████████████████| 391/391 [03:41<00:00,  1.77batch/s, accuracy=50.9, loss=0.852]\n",
      "Validation: 100%|████████████████████████████████████████████████████████████████████████████████████████████████████████████████████████████████████████████████████████████| 79/79 [00:18<00:00,  4.29batch/s]\n"
     ]
    },
    {
     "name": "stdout",
     "output_type": "stream",
     "text": [
      "Epoch [95/100], Train Loss: 1.3621, Train Accuracy: 50.90%, Val Loss: 1.0023, Val Accuracy: 64.44%, ETA: 00:19:57\n"
     ]
    },
    {
     "name": "stderr",
     "output_type": "stream",
     "text": [
      "Epoch 96/100: 100%|█████████████████████████████████████████████████████████████████████████████████████████████████████████████████████████████| 391/391 [03:40<00:00,  1.78batch/s, accuracy=66.6, loss=0.589]\n",
      "Validation: 100%|████████████████████████████████████████████████████████████████████████████████████████████████████████████████████████████████████████████████████████████| 79/79 [00:18<00:00,  4.32batch/s]\n"
     ]
    },
    {
     "name": "stdout",
     "output_type": "stream",
     "text": [
      "Epoch [96/100], Train Loss: 0.9419, Train Accuracy: 66.59%, Val Loss: 0.8996, Val Accuracy: 68.06%, ETA: 00:15:53\n"
     ]
    },
    {
     "name": "stderr",
     "output_type": "stream",
     "text": [
      "Epoch 97/100: 100%|█████████████████████████████████████████████████████████████████████████████████████████████████████████████████████████████| 391/391 [03:39<00:00,  1.78batch/s, accuracy=67.7, loss=0.573]\n",
      "Validation: 100%|████████████████████████████████████████████████████████████████████████████████████████████████████████████████████████████████████████████████████████████| 79/79 [00:18<00:00,  4.32batch/s]\n"
     ]
    },
    {
     "name": "stdout",
     "output_type": "stream",
     "text": [
      "Epoch [97/100], Train Loss: 0.9161, Train Accuracy: 67.66%, Val Loss: 0.7980, Val Accuracy: 72.16%, ETA: 00:11:53\n"
     ]
    },
    {
     "name": "stderr",
     "output_type": "stream",
     "text": [
      "Epoch 98/100: 100%|█████████████████████████████████████████████████████████████████████████████████████████████████████████████████████████████| 391/391 [03:39<00:00,  1.78batch/s, accuracy=70.9, loss=0.516]\n",
      "Validation: 100%|████████████████████████████████████████████████████████████████████████████████████████████████████████████████████████████████████████████████████████████| 79/79 [00:18<00:00,  4.31batch/s]\n"
     ]
    },
    {
     "name": "stdout",
     "output_type": "stream",
     "text": [
      "Epoch [98/100], Train Loss: 0.8250, Train Accuracy: 70.88%, Val Loss: 0.7753, Val Accuracy: 73.30%, ETA: 00:07:56\n"
     ]
    },
    {
     "name": "stderr",
     "output_type": "stream",
     "text": [
      "Epoch 99/100: 100%|█████████████████████████████████████████████████████████████████████████████████████████████████████████████████████████████| 391/391 [03:39<00:00,  1.78batch/s, accuracy=64.8, loss=0.618]\n",
      "Validation: 100%|████████████████████████████████████████████████████████████████████████████████████████████████████████████████████████████████████████████████████████████| 79/79 [00:18<00:00,  4.28batch/s]\n"
     ]
    },
    {
     "name": "stdout",
     "output_type": "stream",
     "text": [
      "Epoch [99/100], Train Loss: 0.9885, Train Accuracy: 64.79%, Val Loss: 1.2223, Val Accuracy: 56.02%, ETA: 00:03:57\n"
     ]
    },
    {
     "name": "stderr",
     "output_type": "stream",
     "text": [
      "Epoch 100/100: 100%|█████████████████████████████████████████████████████████████████████████████████████████████████████████████████████████████| 391/391 [03:39<00:00,  1.78batch/s, accuracy=64.7, loss=0.62]\n",
      "Validation: 100%|████████████████████████████████████████████████████████████████████████████████████████████████████████████████████████████████████████████████████████████| 79/79 [00:18<00:00,  4.34batch/s]"
     ]
    },
    {
     "name": "stdout",
     "output_type": "stream",
     "text": [
      "Epoch [100/100], Train Loss: 0.9912, Train Accuracy: 64.74%, Val Loss: 0.9140, Val Accuracy: 67.70%, ETA: 00:00:00\n",
      "Finished Training\n"
     ]
    },
    {
     "name": "stderr",
     "output_type": "stream",
     "text": [
      "\n"
     ]
    }
   ],
   "source": [
    "num_epochs = 100\n",
    "train_losses = []\n",
    "val_losses = []\n",
    "train_accuracies = []\n",
    "val_accuracies = []\n",
    "\n",
    "for epoch in range(num_epochs):\n",
    "    start_time = time.time()\n",
    "    running_loss = 0.0\n",
    "    correct = 0\n",
    "    total = 0\n",
    "\n",
    "    # Training loop\n",
    "    model.train()\n",
    "    trainloader_tqdm = tqdm(trainloader, desc=f'Epoch {epoch + 1}/{num_epochs}', unit='batch')\n",
    "    for data in trainloader_tqdm:\n",
    "        inputs, labels = data\n",
    "        inputs, labels = inputs.to(device), labels.to(device)\n",
    "\n",
    "        optimizer.zero_grad()\n",
    "        outputs = model(inputs)\n",
    "        loss = criterion(outputs, labels)\n",
    "        loss.backward()\n",
    "        optimizer.step()\n",
    "\n",
    "        running_loss += loss.item()\n",
    "        _, predicted = torch.max(outputs.data, 1)\n",
    "        total += labels.size(0)\n",
    "        correct += (predicted == labels).sum().item()\n",
    "\n",
    "        # Update tqdm description\n",
    "        trainloader_tqdm.set_postfix(loss=running_loss / (total / labels.size(0)), accuracy=100 * correct / total)\n",
    "\n",
    "    train_loss = running_loss / len(trainloader)\n",
    "    train_accuracy = 100 * correct / total\n",
    "    train_losses.append(train_loss)\n",
    "    train_accuracies.append(train_accuracy)\n",
    "\n",
    "    # Validation loop\n",
    "    model.eval()\n",
    "    val_loss = 0.0\n",
    "    correct = 0\n",
    "    total = 0\n",
    "    with torch.no_grad():\n",
    "        for data in tqdm(testloader, desc='Validation', unit='batch'):\n",
    "            images, labels = data\n",
    "            images, labels = images.to(device), labels.to(device)\n",
    "            outputs = model(images)\n",
    "            loss = criterion(outputs, labels)\n",
    "            val_loss += loss.item()\n",
    "            _, predicted = torch.max(outputs.data, 1)\n",
    "            total += labels.size(0)\n",
    "            correct += (predicted == labels).sum().item()\n",
    "\n",
    "    val_loss /= len(testloader)\n",
    "    val_accuracy = 100 * correct / total\n",
    "    val_losses.append(val_loss)\n",
    "    val_accuracies.append(val_accuracy)\n",
    "\n",
    "    end_time = time.time()\n",
    "    epoch_time = end_time - start_time\n",
    "    remaining_time = epoch_time * (num_epochs - epoch - 1)\n",
    "    eta = time.strftime(\"%H:%M:%S\", time.gmtime(remaining_time))\n",
    "\n",
    "    print(f'Epoch [{epoch + 1}/{num_epochs}], '\n",
    "          f'Train Loss: {train_loss:.4f}, Train Accuracy: {train_accuracy:.2f}%, '\n",
    "          f'Val Loss: {val_loss:.4f}, Val Accuracy: {val_accuracy:.2f}%, '\n",
    "          f'ETA: {eta}')\n",
    "    if epoch % 10 == 0:\n",
    "        # 모델 저장\n",
    "        torch.save(model.state_dict(), f'vit_cifar10_{epoch}.pth')\n",
    "        print(f'saved model at epoch {epoch}')\n",
    "\n",
    "print('Finished Training')"
   ]
  },
  {
   "cell_type": "code",
   "execution_count": 7,
   "id": "6bd82ae8",
   "metadata": {},
   "outputs": [
    {
     "data": {
      "image/png": "[encoded data removed]",
      "text/plain": [
       "<Figure size 1200x500 with 2 Axes>"
      ]
     },
     "metadata": {},
     "output_type": "display_data"
    }
   ],
   "source": [
    "# 모델 저장\n",
    "torch.save(model.state_dict(), 'vit_cifar10_B_16.pth')\n",
    "\n",
    "# 학습 곡선 시각화\n",
    "plt.figure(figsize=(12, 5))\n",
    "\n",
    "plt.subplot(1, 2, 1)\n",
    "plt.plot(range(1, num_epochs + 1), train_losses, label='Train Loss')\n",
    "plt.plot(range(1, num_epochs + 1), val_losses, label='Val Loss')\n",
    "plt.xlabel('Epoch')\n",
    "plt.ylabel('Loss')\n",
    "plt.title('Training and Validation Loss')\n",
    "plt.legend()\n",
    "\n",
    "plt.subplot(1, 2, 2)\n",
    "plt.plot(range(1, num_epochs + 1), train_accuracies, label='Train Accuracy')\n",
    "plt.plot(range(1, num_epochs + 1), val_accuracies, label='Val Accuracy')\n",
    "plt.xlabel('Epoch')\n",
    "plt.ylabel('Accuracy')\n",
    "plt.title('Training and Validation Accuracy')\n",
    "plt.legend()\n",
    "\n",
    "plt.show()"
   ]
  },
  {
   "cell_type": "code",
   "execution_count": 8,
   "id": "b8b56020",
   "metadata": {},
   "outputs": [
    {
     "name": "stdout",
     "output_type": "stream",
     "text": [
      "Test Loss: 0.0072, Test Accuracy: 0.6770\n"
     ]
    }
   ],
   "source": [
    "model.eval()\n",
    "running_test_loss = 0.0\n",
    "running_test_correct = 0\n",
    "total_test = 0\n",
    "\n",
    "with torch.no_grad():\n",
    "    for inputs, labels in testloader:\n",
    "        inputs, labels = inputs.to(device), labels.to(device)\n",
    "        outputs = model(inputs)\n",
    "        loss = criterion(outputs, labels)\n",
    "        \n",
    "        running_test_loss += loss.item()\n",
    "        _, preds = torch.max(outputs, 1)\n",
    "        running_test_correct += (preds == labels).sum().item()\n",
    "        total_test += labels.size(0)\n",
    "\n",
    "test_loss = running_test_loss / total_test\n",
    "test_accuracy = running_test_correct / total_test\n",
    "\n",
    "print(f\"Test Loss: {test_loss:.4f}, Test Accuracy: {test_accuracy:.4f}\")"
   ]
  },
  {
   "cell_type": "markdown",
   "id": "f6c4f836",
   "metadata": {},
   "source": [
    "Epoch [10/100], Train Loss: 0.2354, Train Accuracy: 91.78%, Val Loss: 0.3427, Val Accuracy: 88.95%, ETA: 06:29:56</br>\n",
    "Epoch [20/100], Train Loss: 0.1972, Train Accuracy: 93.16%, Val Loss: 0.3675, Val Accuracy: 88.40%, ETA: 05:52:47</br>\n",
    "Epoch [30/100], Train Loss: 0.1481, Train Accuracy: 94.76%, Val Loss: 0.3647, Val Accuracy: 89.51%, ETA: 05:39:17</br>\n",
    "Epoch [40/100], Train Loss: 0.1621, Train Accuracy: 94.45%, Val Loss: 0.3777, Val Accuracy: 89.14%, ETA: 04:28:29</br>\n",
    "Epoch [50/100], Train Loss: 0.1379, Train Accuracy: 95.17%, Val Loss: 0.3531, Val Accuracy: 89.44%, ETA: 03:24:42</br>\n",
    "Epoch [60/100], Train Loss: 0.2294, Train Accuracy: 91.82%, Val Loss: 0.3755, Val Accuracy: 88.10%, ETA: 02:44:42</br>\n",
    "Epoch [70/100], Train Loss: 0.4751, Train Accuracy: 83.53%, Val Loss: 0.4856, Val Accuracy: 83.78%, ETA: 02:03:45</br>\n",
    "Epoch [80/100], Train Loss: 0.5445, Train Accuracy: 80.76%, Val Loss: 1.0590, Val Accuracy: 62.51%, ETA: 01:21:26</br>\n",
    "Epoch [90/100], Train Loss: 0.5509, Train Accuracy: 80.59%, Val Loss: 0.6350, Val Accuracy: 77.97%, ETA: 00:40:08</br>\n",
    "Epoch [100/100], Train Loss: 0.9912, Train Accuracy: 64.74%, Val Loss: 0.9140, Val Accuracy: 67.70%, ETA: 00:00:00</br>"
   ]
  },
  {
   "cell_type": "code",
   "execution_count": null,
   "id": "cb97a2e5",
   "metadata": {},
   "outputs": [],
   "source": []
  }
 ],
 "metadata": {
  "kernelspec": {
   "display_name": "Python 3 (ipykernel)",
   "language": "python",
   "name": "python3"
  },
  "language_info": {
   "codemirror_mode": {
    "name": "ipython",
    "version": 3
   },
   "file_extension": ".py",
   "mimetype": "text/x-python",
   "name": "python",
   "nbconvert_exporter": "python",
   "pygments_lexer": "ipython3",
   "version": "3.11.5"
  }
 },
 "nbformat": 4,
 "nbformat_minor": 5
}
