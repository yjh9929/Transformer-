{
 "cells": [
  {
   "cell_type": "code",
   "execution_count": 1,
   "id": "6354e7c2",
   "metadata": {},
   "outputs": [
    {
     "name": "stdout",
     "output_type": "stream",
     "text": [
      "/home/cvmlserver3/jihee/ComputerVision\n"
     ]
    }
   ],
   "source": [
    "#%mkdir ComputerVision\n",
    "%cd ComputerVision"
   ]
  },
  {
   "cell_type": "code",
   "execution_count": 2,
   "id": "8b80282b",
   "metadata": {},
   "outputs": [],
   "source": [
    "import torch\n",
    "import torch.nn as nn\n",
    "import torch.optim as optim\n",
    "import torchvision.transforms as transforms\n",
    "from torch.utils.data import DataLoader, random_split\n",
    "import torchvision.datasets as datasets\n",
    "import time\n",
    "from tqdm import tqdm\n",
    "from pytorch_pretrained_vit import ViT\n",
    "import matplotlib.pyplot as plt"
   ]
  },
  {
   "cell_type": "code",
   "execution_count": 3,
   "id": "0690a41e",
   "metadata": {},
   "outputs": [
    {
     "name": "stdout",
     "output_type": "stream",
     "text": [
      "Files already downloaded and verified\n",
      "Files already downloaded and verified\n"
     ]
    }
   ],
   "source": [
    "# 데이터 증강 및 정규화 설정\n",
    "transform_train = transforms.Compose([\n",
    "    transforms.Resize((224, 224)),  # ViT는 224x224 입력을 기대\n",
    "    transforms.RandomCrop(224, padding=4),  # RandomCrop 크기 수정\n",
    "    transforms.RandomHorizontalFlip(),\n",
    "    transforms.ToTensor(),\n",
    "    transforms.Normalize((0.5, 0.5, 0.5), (0.5, 0.5, 0.5)),  # 정규화 범위 수정\n",
    "])\n",
    "\n",
    "transform_test = transforms.Compose([\n",
    "    transforms.Resize((224, 224)),  # ViT는 224x224 입력을 기대\n",
    "    transforms.ToTensor(),\n",
    "    transforms.Normalize((0.5, 0.5, 0.5), (0.5, 0.5, 0.5)),  # 정규화 범위 수정\n",
    "])\n",
    "\n",
    "# CIFAR-10 데이터셋 다운로드 및 로더 설정\n",
    "full_dataset = datasets.CIFAR10(root='./data', train=True, download=True, transform=transform_train)\n",
    "test_dataset = datasets.CIFAR10(root='./data', train=False, download=True, transform=transform_test)\n",
    "\n",
    "# 전체 데이터를 학습, 검증, 테스트 데이터로 분할\n",
    "train_size = int(0.8 * len(full_dataset))\n",
    "val_size = int(0.1 * len(full_dataset))\n",
    "train_dataset, val_dataset, _ = random_split(full_dataset, [train_size, val_size, len(full_dataset) - train_size - val_size])\n",
    "\n",
    "trainloader = DataLoader(train_dataset, batch_size=128, shuffle=True, num_workers=4)\n",
    "valloader = DataLoader(val_dataset, batch_size=128, shuffle=False, num_workers=4)\n",
    "testloader = DataLoader(test_dataset, batch_size=128, shuffle=False, num_workers=4)\n"
   ]
  },
  {
   "cell_type": "code",
   "execution_count": 4,
   "id": "26978516",
   "metadata": {},
   "outputs": [
    {
     "name": "stdout",
     "output_type": "stream",
     "text": [
      "Resized positional embeddings from torch.Size([1, 197, 768]) to torch.Size([1, 197, 768])\n",
      "Loaded pretrained weights.\n"
     ]
    },
    {
     "data": {
      "text/plain": [
       "DataParallel(\n",
       "  (module): ViT(\n",
       "    (patch_embedding): Conv2d(3, 768, kernel_size=(16, 16), stride=(16, 16))\n",
       "    (positional_embedding): PositionalEmbedding1D()\n",
       "    (transformer): Transformer(\n",
       "      (blocks): ModuleList(\n",
       "        (0-11): 12 x Block(\n",
       "          (attn): MultiHeadedSelfAttention(\n",
       "            (proj_q): Linear(in_features=768, out_features=768, bias=True)\n",
       "            (proj_k): Linear(in_features=768, out_features=768, bias=True)\n",
       "            (proj_v): Linear(in_features=768, out_features=768, bias=True)\n",
       "            (drop): Dropout(p=0.1, inplace=False)\n",
       "          )\n",
       "          (proj): Linear(in_features=768, out_features=768, bias=True)\n",
       "          (norm1): LayerNorm((768,), eps=1e-06, elementwise_affine=True)\n",
       "          (pwff): PositionWiseFeedForward(\n",
       "            (fc1): Linear(in_features=768, out_features=3072, bias=True)\n",
       "            (fc2): Linear(in_features=3072, out_features=768, bias=True)\n",
       "          )\n",
       "          (norm2): LayerNorm((768,), eps=1e-06, elementwise_affine=True)\n",
       "          (drop): Dropout(p=0.1, inplace=False)\n",
       "        )\n",
       "      )\n",
       "    )\n",
       "    (norm): LayerNorm((768,), eps=1e-06, elementwise_affine=True)\n",
       "    (fc): Linear(in_features=768, out_features=10, bias=True)\n",
       "  )\n",
       ")"
      ]
     },
     "execution_count": 4,
     "metadata": {},
     "output_type": "execute_result"
    }
   ],
   "source": [
    "# 사전 학습된 ViT 모델 불러오기\n",
    "model = ViT('B_16', pretrained=True, image_size=224, patches=4)\n",
    "\n",
    "# CIFAR-10은 10개의 클래스를 가지므로, 마지막 레이어를 수정\n",
    "model.fc = nn.Linear(model.fc.in_features, 10)\n",
    "\n",
    "# 손실 함수 및 옵티마이저 정의\n",
    "criterion = nn.CrossEntropyLoss()\n",
    "optimizer = optim.Adam(model.parameters(), lr=0.001)\n",
    "\n",
    "# Multi-GPU 지원을 위해 DataParallel 사용\n",
    "if torch.cuda.device_count() > 1:\n",
    "    model = nn.DataParallel(model)\n",
    "\n",
    "# 모델을 GPU로 이동\n",
    "device = torch.device(\"cuda\")\n",
    "model.to(device)"
   ]
  },
  {
   "cell_type": "code",
   "execution_count": 5,
   "id": "50efe3b8",
   "metadata": {},
   "outputs": [
    {
     "name": "stderr",
     "output_type": "stream",
     "text": [
      "Epoch 1/100: 100%|██████████████████████████████████████████████████████████████████████████████████████████████████████████████████████████████| 313/313 [02:52<00:00,  1.82batch/s, accuracy=75.1, loss=0.372]\n",
      "Validation: 100%|████████████████████████████████████████████████████████████████████████████████████████████████████████████████████████████████████████████████████████████| 40/40 [00:09<00:00,  4.27batch/s]\n"
     ]
    },
    {
     "name": "stdout",
     "output_type": "stream",
     "text": [
      "Epoch [1/100], Train Loss: 0.7427, Train Accuracy: 75.09%, Val Loss: 0.3732, Val Accuracy: 86.92%, ETA: 04:59:24\n",
      "saved model at epoch 0\n"
     ]
    },
    {
     "name": "stderr",
     "output_type": "stream",
     "text": [
      "Epoch 2/100: 100%|██████████████████████████████████████████████████████████████████████████████████████████████████████████████████████████████| 313/313 [02:51<00:00,  1.82batch/s, accuracy=87.5, loss=0.186]\n",
      "Validation: 100%|████████████████████████████████████| 40/40 [00:09<00:00,  4.36batch/s]\n"
     ]
    },
    {
     "name": "stdout",
     "output_type": "stream",
     "text": [
      "Epoch [2/100], Train Loss: 0.3718, Train Accuracy: 87.54%, Val Loss: 0.3366, Val Accuracy: 88.40%, ETA: 04:55:28\n"
     ]
    },
    {
     "name": "stderr",
     "output_type": "stream",
     "text": [
      "Epoch 3/100: 100%|██████| 313/313 [02:51<00:00,  1.82batch/s, accuracy=89.1, loss=0.163]\n",
      "Validation: 100%|████████████████████████████████████| 40/40 [00:09<00:00,  4.31batch/s]\n"
     ]
    },
    {
     "name": "stdout",
     "output_type": "stream",
     "text": [
      "Epoch [3/100], Train Loss: 0.3248, Train Accuracy: 89.11%, Val Loss: 0.3312, Val Accuracy: 88.58%, ETA: 04:52:32\n"
     ]
    },
    {
     "name": "stderr",
     "output_type": "stream",
     "text": [
      "Epoch 4/100: 100%|███████| 313/313 [02:51<00:00,  1.82batch/s, accuracy=89.9, loss=0.15]\n",
      "Validation: 100%|████████████████████████████████████| 40/40 [00:09<00:00,  4.28batch/s]\n"
     ]
    },
    {
     "name": "stdout",
     "output_type": "stream",
     "text": [
      "Epoch [4/100], Train Loss: 0.2998, Train Accuracy: 89.86%, Val Loss: 0.3305, Val Accuracy: 89.44%, ETA: 04:49:35\n"
     ]
    },
    {
     "name": "stderr",
     "output_type": "stream",
     "text": [
      "Epoch 5/100: 100%|██████| 313/313 [02:52<00:00,  1.82batch/s, accuracy=90.9, loss=0.133]\n",
      "Validation: 100%|████████████████████████████████████| 40/40 [00:09<00:00,  4.26batch/s]\n"
     ]
    },
    {
     "name": "stdout",
     "output_type": "stream",
     "text": [
      "Epoch [5/100], Train Loss: 0.2662, Train Accuracy: 90.90%, Val Loss: 0.3085, Val Accuracy: 89.14%, ETA: 04:47:16\n"
     ]
    },
    {
     "name": "stderr",
     "output_type": "stream",
     "text": [
      "Epoch 6/100: 100%|████████| 313/313 [02:52<00:00,  1.82batch/s, accuracy=91, loss=0.131]\n",
      "Validation: 100%|████████████████████████████████████| 40/40 [00:09<00:00,  4.33batch/s]\n"
     ]
    },
    {
     "name": "stdout",
     "output_type": "stream",
     "text": [
      "Epoch [6/100], Train Loss: 0.2616, Train Accuracy: 91.00%, Val Loss: 0.2787, Val Accuracy: 91.06%, ETA: 04:44:32\n"
     ]
    },
    {
     "name": "stderr",
     "output_type": "stream",
     "text": [
      "Epoch 7/100: 100%|██████| 313/313 [02:52<00:00,  1.82batch/s, accuracy=91.4, loss=0.126]\n",
      "Validation: 100%|████████████████████████████████████| 40/40 [00:09<00:00,  4.35batch/s]\n"
     ]
    },
    {
     "name": "stdout",
     "output_type": "stream",
     "text": [
      "Epoch [7/100], Train Loss: 0.2508, Train Accuracy: 91.44%, Val Loss: 0.3474, Val Accuracy: 88.22%, ETA: 04:40:51\n"
     ]
    },
    {
     "name": "stderr",
     "output_type": "stream",
     "text": [
      "Epoch 8/100: 100%|██████| 313/313 [02:51<00:00,  1.82batch/s, accuracy=91.8, loss=0.122]\n",
      "Validation: 100%|████████████████████████████████████| 40/40 [00:09<00:00,  4.33batch/s]\n"
     ]
    },
    {
     "name": "stdout",
     "output_type": "stream",
     "text": [
      "Epoch [8/100], Train Loss: 0.2430, Train Accuracy: 91.84%, Val Loss: 0.3244, Val Accuracy: 89.16%, ETA: 04:37:53\n"
     ]
    },
    {
     "name": "stderr",
     "output_type": "stream",
     "text": [
      "Epoch 9/100: 100%|██████| 313/313 [02:51<00:00,  1.82batch/s, accuracy=91.5, loss=0.124]\n",
      "Validation: 100%|████████████████████████████████████| 40/40 [00:09<00:00,  4.31batch/s]\n"
     ]
    },
    {
     "name": "stdout",
     "output_type": "stream",
     "text": [
      "Epoch [9/100], Train Loss: 0.2473, Train Accuracy: 91.55%, Val Loss: 0.3807, Val Accuracy: 87.40%, ETA: 04:34:56\n"
     ]
    },
    {
     "name": "stderr",
     "output_type": "stream",
     "text": [
      "Epoch 10/100: 100%|███████| 313/313 [02:52<00:00,  1.82batch/s, accuracy=92, loss=0.115]\n",
      "Validation: 100%|████████████████████████████████████| 40/40 [00:09<00:00,  4.24batch/s]\n"
     ]
    },
    {
     "name": "stdout",
     "output_type": "stream",
     "text": [
      "Epoch [10/100], Train Loss: 0.2303, Train Accuracy: 92.05%, Val Loss: 0.2973, Val Accuracy: 90.38%, ETA: 04:32:41\n"
     ]
    },
    {
     "name": "stderr",
     "output_type": "stream",
     "text": [
      "Epoch 11/100: 100%|█████| 313/313 [02:51<00:00,  1.82batch/s, accuracy=92.6, loss=0.107]\n",
      "Validation: 100%|████████████████████████████████████| 40/40 [00:09<00:00,  4.33batch/s]\n"
     ]
    },
    {
     "name": "stdout",
     "output_type": "stream",
     "text": [
      "Epoch [11/100], Train Loss: 0.2128, Train Accuracy: 92.65%, Val Loss: 0.2938, Val Accuracy: 90.60%, ETA: 04:28:32\n",
      "saved model at epoch 10\n"
     ]
    },
    {
     "name": "stderr",
     "output_type": "stream",
     "text": [
      "Epoch 12/100: 100%|█████| 313/313 [02:52<00:00,  1.82batch/s, accuracy=92.8, loss=0.105]\n",
      "Validation: 100%|████████████████████████████████████| 40/40 [00:09<00:00,  4.33batch/s]\n"
     ]
    },
    {
     "name": "stdout",
     "output_type": "stream",
     "text": [
      "Epoch [12/100], Train Loss: 0.2103, Train Accuracy: 92.80%, Val Loss: 0.2958, Val Accuracy: 89.96%, ETA: 04:26:02\n"
     ]
    },
    {
     "name": "stderr",
     "output_type": "stream",
     "text": [
      "Epoch 13/100: 100%|█████| 313/313 [02:51<00:00,  1.82batch/s, accuracy=92.7, loss=0.106]\n",
      "Validation: 100%|████████████████████████████████████| 40/40 [00:09<00:00,  4.29batch/s]\n"
     ]
    },
    {
     "name": "stdout",
     "output_type": "stream",
     "text": [
      "Epoch [13/100], Train Loss: 0.2116, Train Accuracy: 92.74%, Val Loss: 0.2966, Val Accuracy: 89.68%, ETA: 04:22:27\n"
     ]
    },
    {
     "name": "stderr",
     "output_type": "stream",
     "text": [
      "Epoch 14/100: 100%|█████| 313/313 [02:51<00:00,  1.82batch/s, accuracy=92.9, loss=0.101]\n",
      "Validation: 100%|████████████████████████████████████| 40/40 [00:09<00:00,  4.26batch/s]\n"
     ]
    },
    {
     "name": "stdout",
     "output_type": "stream",
     "text": [
      "Epoch [14/100], Train Loss: 0.2012, Train Accuracy: 92.92%, Val Loss: 0.2917, Val Accuracy: 90.04%, ETA: 04:19:50\n"
     ]
    },
    {
     "name": "stderr",
     "output_type": "stream",
     "text": [
      "Epoch 15/100: 100%|████| 313/313 [02:51<00:00,  1.82batch/s, accuracy=93.4, loss=0.0958]\n",
      "Validation: 100%|████████████████████████████████████| 40/40 [00:09<00:00,  4.34batch/s]\n"
     ]
    },
    {
     "name": "stdout",
     "output_type": "stream",
     "text": [
      "Epoch [15/100], Train Loss: 0.1913, Train Accuracy: 93.39%, Val Loss: 0.2977, Val Accuracy: 90.22%, ETA: 04:16:37\n"
     ]
    },
    {
     "name": "stderr",
     "output_type": "stream",
     "text": [
      "Epoch 16/100: 100%|█████| 313/313 [02:52<00:00,  1.82batch/s, accuracy=94.2, loss=0.084]\n",
      "Validation: 100%|████████████████████████████████████| 40/40 [00:09<00:00,  4.35batch/s]\n"
     ]
    },
    {
     "name": "stdout",
     "output_type": "stream",
     "text": [
      "Epoch [16/100], Train Loss: 0.1678, Train Accuracy: 94.19%, Val Loss: 0.2828, Val Accuracy: 90.66%, ETA: 04:13:54\n"
     ]
    },
    {
     "name": "stderr",
     "output_type": "stream",
     "text": [
      "Epoch 17/100: 100%|████| 313/313 [02:51<00:00,  1.82batch/s, accuracy=94.7, loss=0.0761]\n",
      "Validation: 100%|████████████████████████████████████| 40/40 [00:09<00:00,  4.29batch/s]\n"
     ]
    },
    {
     "name": "stdout",
     "output_type": "stream",
     "text": [
      "Epoch [17/100], Train Loss: 0.1519, Train Accuracy: 94.67%, Val Loss: 0.3014, Val Accuracy: 90.54%, ETA: 04:10:22\n"
     ]
    },
    {
     "name": "stderr",
     "output_type": "stream",
     "text": [
      "Epoch 18/100: 100%|████| 313/313 [02:52<00:00,  1.82batch/s, accuracy=94.4, loss=0.0792]\n",
      "Validation: 100%|████████████████████████████████████| 40/40 [00:09<00:00,  4.36batch/s]\n"
     ]
    },
    {
     "name": "stdout",
     "output_type": "stream",
     "text": [
      "Epoch [18/100], Train Loss: 0.1582, Train Accuracy: 94.37%, Val Loss: 0.2786, Val Accuracy: 90.84%, ETA: 04:07:53\n"
     ]
    },
    {
     "name": "stderr",
     "output_type": "stream",
     "text": [
      "Epoch 19/100: 100%|████| 313/313 [02:52<00:00,  1.82batch/s, accuracy=94.5, loss=0.0801]\n",
      "Validation: 100%|████████████████████████████████████| 40/40 [00:09<00:00,  4.28batch/s]\n"
     ]
    },
    {
     "name": "stdout",
     "output_type": "stream",
     "text": [
      "Epoch [19/100], Train Loss: 0.1600, Train Accuracy: 94.45%, Val Loss: 0.2729, Val Accuracy: 90.98%, ETA: 04:04:54\n"
     ]
    },
    {
     "name": "stderr",
     "output_type": "stream",
     "text": [
      "Epoch 20/100: 100%|████| 313/313 [02:52<00:00,  1.82batch/s, accuracy=94.4, loss=0.0793]\n",
      "Validation: 100%|████████████████████████████████████| 40/40 [00:09<00:00,  4.36batch/s]\n"
     ]
    },
    {
     "name": "stdout",
     "output_type": "stream",
     "text": [
      "Epoch [20/100], Train Loss: 0.1583, Train Accuracy: 94.35%, Val Loss: 0.2845, Val Accuracy: 91.46%, ETA: 04:01:40\n"
     ]
    },
    {
     "name": "stderr",
     "output_type": "stream",
     "text": [
      "Epoch 21/100: 100%|████| 313/313 [02:51<00:00,  1.83batch/s, accuracy=94.9, loss=0.0734]\n",
      "Validation: 100%|████████████████████████████████████| 40/40 [00:09<00:00,  4.39batch/s]\n"
     ]
    },
    {
     "name": "stdout",
     "output_type": "stream",
     "text": [
      "Epoch [21/100], Train Loss: 0.1465, Train Accuracy: 94.93%, Val Loss: 0.2744, Val Accuracy: 91.34%, ETA: 03:57:47\n",
      "saved model at epoch 20\n"
     ]
    },
    {
     "name": "stderr",
     "output_type": "stream",
     "text": [
      "Epoch 22/100: 100%|████| 313/313 [02:52<00:00,  1.82batch/s, accuracy=94.6, loss=0.0776]\n",
      "Validation: 100%|████████████████████████████████████| 40/40 [00:09<00:00,  4.32batch/s]\n"
     ]
    },
    {
     "name": "stdout",
     "output_type": "stream",
     "text": [
      "Epoch [22/100], Train Loss: 0.1550, Train Accuracy: 94.64%, Val Loss: 0.2926, Val Accuracy: 89.82%, ETA: 03:55:43\n"
     ]
    },
    {
     "name": "stderr",
     "output_type": "stream",
     "text": [
      "Epoch 23/100: 100%|████| 313/313 [02:51<00:00,  1.82batch/s, accuracy=94.9, loss=0.0742]\n",
      "Validation: 100%|████████████████████████████████████| 40/40 [00:09<00:00,  4.32batch/s]\n"
     ]
    },
    {
     "name": "stdout",
     "output_type": "stream",
     "text": [
      "Epoch [23/100], Train Loss: 0.1482, Train Accuracy: 94.91%, Val Loss: 0.3092, Val Accuracy: 90.04%, ETA: 03:52:28\n"
     ]
    },
    {
     "name": "stderr",
     "output_type": "stream",
     "text": [
      "Epoch 24/100: 100%|████| 313/313 [02:51<00:00,  1.82batch/s, accuracy=94.8, loss=0.0735]\n",
      "Validation: 100%|████████████████████████████████████| 40/40 [00:09<00:00,  4.29batch/s]\n"
     ]
    },
    {
     "name": "stdout",
     "output_type": "stream",
     "text": [
      "Epoch [24/100], Train Loss: 0.1468, Train Accuracy: 94.85%, Val Loss: 0.2936, Val Accuracy: 90.28%, ETA: 03:49:23\n"
     ]
    },
    {
     "name": "stderr",
     "output_type": "stream",
     "text": [
      "Epoch 25/100: 100%|██████| 313/313 [02:51<00:00,  1.83batch/s, accuracy=95, loss=0.0711]\n",
      "Validation: 100%|████████████████████████████████████| 40/40 [00:09<00:00,  4.27batch/s]\n"
     ]
    },
    {
     "name": "stdout",
     "output_type": "stream",
     "text": [
      "Epoch [25/100], Train Loss: 0.1420, Train Accuracy: 95.00%, Val Loss: 0.2979, Val Accuracy: 91.14%, ETA: 03:46:06\n"
     ]
    },
    {
     "name": "stderr",
     "output_type": "stream",
     "text": [
      "Epoch 26/100: 100%|████| 313/313 [02:51<00:00,  1.82batch/s, accuracy=95.5, loss=0.0644]\n",
      "Validation: 100%|████████████████████████████████████| 40/40 [00:09<00:00,  4.34batch/s]\n"
     ]
    },
    {
     "name": "stdout",
     "output_type": "stream",
     "text": [
      "Epoch [26/100], Train Loss: 0.1286, Train Accuracy: 95.48%, Val Loss: 0.2899, Val Accuracy: 90.32%, ETA: 03:43:25\n"
     ]
    },
    {
     "name": "stderr",
     "output_type": "stream",
     "text": [
      "Epoch 27/100: 100%|████| 313/313 [02:51<00:00,  1.82batch/s, accuracy=95.7, loss=0.0629]\n",
      "Validation: 100%|████████████████████████████████████| 40/40 [00:09<00:00,  4.35batch/s]\n"
     ]
    },
    {
     "name": "stdout",
     "output_type": "stream",
     "text": [
      "Epoch [27/100], Train Loss: 0.1256, Train Accuracy: 95.68%, Val Loss: 0.2794, Val Accuracy: 91.16%, ETA: 03:40:27\n"
     ]
    },
    {
     "name": "stderr",
     "output_type": "stream",
     "text": [
      "Epoch 28/100: 100%|████| 313/313 [02:51<00:00,  1.82batch/s, accuracy=96.2, loss=0.0552]\n",
      "Validation: 100%|████████████████████████████████████| 40/40 [00:09<00:00,  4.31batch/s]\n"
     ]
    },
    {
     "name": "stdout",
     "output_type": "stream",
     "text": [
      "Epoch [28/100], Train Loss: 0.1101, Train Accuracy: 96.17%, Val Loss: 0.2973, Val Accuracy: 90.82%, ETA: 03:37:32\n"
     ]
    },
    {
     "name": "stderr",
     "output_type": "stream",
     "text": [
      "Epoch 29/100: 100%|████| 313/313 [02:52<00:00,  1.82batch/s, accuracy=95.7, loss=0.0618]\n",
      "Validation: 100%|████████████████████████████████████| 40/40 [00:09<00:00,  4.29batch/s]\n"
     ]
    },
    {
     "name": "stdout",
     "output_type": "stream",
     "text": [
      "Epoch [29/100], Train Loss: 0.1235, Train Accuracy: 95.74%, Val Loss: 0.3008, Val Accuracy: 90.92%, ETA: 03:34:35\n"
     ]
    },
    {
     "name": "stderr",
     "output_type": "stream",
     "text": [
      "Epoch 30/100: 100%|██████| 313/313 [02:51<00:00,  1.82batch/s, accuracy=96, loss=0.0579]\n",
      "Validation: 100%|████████████████████████████████████| 40/40 [00:09<00:00,  4.32batch/s]\n"
     ]
    },
    {
     "name": "stdout",
     "output_type": "stream",
     "text": [
      "Epoch [30/100], Train Loss: 0.1155, Train Accuracy: 96.02%, Val Loss: 0.2786, Val Accuracy: 90.90%, ETA: 03:31:08\n"
     ]
    },
    {
     "name": "stderr",
     "output_type": "stream",
     "text": [
      "Epoch 31/100: 100%|██████| 313/313 [02:52<00:00,  1.82batch/s, accuracy=96, loss=0.0575]\n",
      "Validation: 100%|████████████████████████████████████| 40/40 [00:09<00:00,  4.30batch/s]\n"
     ]
    },
    {
     "name": "stdout",
     "output_type": "stream",
     "text": [
      "Epoch [31/100], Train Loss: 0.1149, Train Accuracy: 96.02%, Val Loss: 0.2741, Val Accuracy: 91.24%, ETA: 03:28:36\n",
      "saved model at epoch 30\n"
     ]
    },
    {
     "name": "stderr",
     "output_type": "stream",
     "text": [
      "Epoch 32/100: 100%|████| 313/313 [02:52<00:00,  1.82batch/s, accuracy=95.9, loss=0.0584]\n",
      "Validation: 100%|████████████████████████████████████| 40/40 [00:09<00:00,  4.32batch/s]\n"
     ]
    },
    {
     "name": "stdout",
     "output_type": "stream",
     "text": [
      "Epoch [32/100], Train Loss: 0.1167, Train Accuracy: 95.88%, Val Loss: 0.3353, Val Accuracy: 90.96%, ETA: 03:25:32\n"
     ]
    },
    {
     "name": "stderr",
     "output_type": "stream",
     "text": [
      "Epoch 33/100: 100%|████| 313/313 [02:52<00:00,  1.82batch/s, accuracy=96.2, loss=0.0557]\n",
      "Validation: 100%|████████████████████████████████████| 40/40 [00:09<00:00,  4.32batch/s]\n"
     ]
    },
    {
     "name": "stdout",
     "output_type": "stream",
     "text": [
      "Epoch [33/100], Train Loss: 0.1112, Train Accuracy: 96.18%, Val Loss: 0.3401, Val Accuracy: 89.56%, ETA: 03:22:26\n"
     ]
    },
    {
     "name": "stderr",
     "output_type": "stream",
     "text": [
      "Epoch 34/100: 100%|████| 313/313 [02:51<00:00,  1.82batch/s, accuracy=96.5, loss=0.0514]\n",
      "Validation: 100%|████████████████████████████████████| 40/40 [00:09<00:00,  4.32batch/s]\n"
     ]
    },
    {
     "name": "stdout",
     "output_type": "stream",
     "text": [
      "Epoch [34/100], Train Loss: 0.1027, Train Accuracy: 96.45%, Val Loss: 0.2881, Val Accuracy: 91.50%, ETA: 03:19:05\n"
     ]
    },
    {
     "name": "stderr",
     "output_type": "stream",
     "text": [
      "Epoch 35/100: 100%|████| 313/313 [02:51<00:00,  1.82batch/s, accuracy=96.5, loss=0.0511]\n",
      "Validation: 100%|████████████████████████████████████| 40/40 [00:09<00:00,  4.33batch/s]\n"
     ]
    },
    {
     "name": "stdout",
     "output_type": "stream",
     "text": [
      "Epoch [35/100], Train Loss: 0.1021, Train Accuracy: 96.48%, Val Loss: 0.2824, Val Accuracy: 91.76%, ETA: 03:16:15\n"
     ]
    },
    {
     "name": "stderr",
     "output_type": "stream",
     "text": [
      "Epoch 36/100: 100%|██████| 313/313 [02:52<00:00,  1.82batch/s, accuracy=97, loss=0.0436]\n",
      "Validation: 100%|████████████████████████████████████| 40/40 [00:09<00:00,  4.38batch/s]\n"
     ]
    },
    {
     "name": "stdout",
     "output_type": "stream",
     "text": [
      "Epoch [36/100], Train Loss: 0.0871, Train Accuracy: 97.02%, Val Loss: 0.2670, Val Accuracy: 91.92%, ETA: 03:13:18\n"
     ]
    },
    {
     "name": "stderr",
     "output_type": "stream",
     "text": [
      "Epoch 37/100: 100%|████| 313/313 [02:51<00:00,  1.82batch/s, accuracy=96.5, loss=0.0501]\n",
      "Validation: 100%|████████████████████████████████████| 40/40 [00:09<00:00,  4.29batch/s]\n"
     ]
    },
    {
     "name": "stdout",
     "output_type": "stream",
     "text": [
      "Epoch [37/100], Train Loss: 0.1001, Train Accuracy: 96.48%, Val Loss: 0.3251, Val Accuracy: 90.26%, ETA: 03:10:05\n"
     ]
    },
    {
     "name": "stderr",
     "output_type": "stream",
     "text": [
      "Epoch 38/100: 100%|████| 313/313 [02:52<00:00,  1.82batch/s, accuracy=96.3, loss=0.0525]\n",
      "Validation: 100%|████████████████████████████████████| 40/40 [00:09<00:00,  4.31batch/s]\n"
     ]
    },
    {
     "name": "stdout",
     "output_type": "stream",
     "text": [
      "Epoch [38/100], Train Loss: 0.1049, Train Accuracy: 96.30%, Val Loss: 0.2822, Val Accuracy: 91.34%, ETA: 03:07:21\n"
     ]
    },
    {
     "name": "stderr",
     "output_type": "stream",
     "text": [
      "Epoch 39/100: 100%|██████| 313/313 [02:52<00:00,  1.82batch/s, accuracy=97, loss=0.0441]\n",
      "Validation: 100%|████████████████████████████████████| 40/40 [00:09<00:00,  4.28batch/s]\n"
     ]
    },
    {
     "name": "stdout",
     "output_type": "stream",
     "text": [
      "Epoch [39/100], Train Loss: 0.0880, Train Accuracy: 97.01%, Val Loss: 0.3543, Val Accuracy: 89.88%, ETA: 03:04:26\n"
     ]
    },
    {
     "name": "stderr",
     "output_type": "stream",
     "text": [
      "Epoch 40/100: 100%|████| 313/313 [02:52<00:00,  1.82batch/s, accuracy=97.3, loss=0.0399]\n",
      "Validation: 100%|████████████████████████████████████| 40/40 [00:09<00:00,  4.35batch/s]\n"
     ]
    },
    {
     "name": "stdout",
     "output_type": "stream",
     "text": [
      "Epoch [40/100], Train Loss: 0.0798, Train Accuracy: 97.30%, Val Loss: 0.3057, Val Accuracy: 90.88%, ETA: 03:01:30\n"
     ]
    },
    {
     "name": "stderr",
     "output_type": "stream",
     "text": [
      "Epoch 41/100: 100%|████| 313/313 [02:52<00:00,  1.82batch/s, accuracy=96.8, loss=0.0448]\n",
      "Validation: 100%|████████████████████████████████████| 40/40 [00:09<00:00,  4.35batch/s]\n"
     ]
    },
    {
     "name": "stdout",
     "output_type": "stream",
     "text": [
      "Epoch [41/100], Train Loss: 0.0895, Train Accuracy: 96.84%, Val Loss: 0.2951, Val Accuracy: 90.68%, ETA: 02:58:16\n",
      "saved model at epoch 40\n"
     ]
    },
    {
     "name": "stderr",
     "output_type": "stream",
     "text": [
      "Epoch 42/100: 100%|████| 313/313 [02:51<00:00,  1.82batch/s, accuracy=96.3, loss=0.0547]\n",
      "Validation: 100%|████████████████████████████████████| 40/40 [00:09<00:00,  4.33batch/s]\n"
     ]
    },
    {
     "name": "stdout",
     "output_type": "stream",
     "text": [
      "Epoch [42/100], Train Loss: 0.1093, Train Accuracy: 96.29%, Val Loss: 0.2768, Val Accuracy: 91.66%, ETA: 02:55:02\n"
     ]
    },
    {
     "name": "stderr",
     "output_type": "stream",
     "text": [
      "Epoch 43/100: 100%|████| 313/313 [02:51<00:00,  1.82batch/s, accuracy=96.9, loss=0.0441]\n",
      "Validation: 100%|████████████████████████████████████| 40/40 [00:09<00:00,  4.35batch/s]\n"
     ]
    },
    {
     "name": "stdout",
     "output_type": "stream",
     "text": [
      "Epoch [43/100], Train Loss: 0.0881, Train Accuracy: 96.89%, Val Loss: 0.2983, Val Accuracy: 90.88%, ETA: 02:51:51\n"
     ]
    },
    {
     "name": "stderr",
     "output_type": "stream",
     "text": [
      "Epoch 44/100: 100%|████| 313/313 [02:51<00:00,  1.82batch/s, accuracy=96.7, loss=0.0473]\n",
      "Validation: 100%|████████████████████████████████████| 40/40 [00:09<00:00,  4.34batch/s]\n"
     ]
    },
    {
     "name": "stdout",
     "output_type": "stream",
     "text": [
      "Epoch [44/100], Train Loss: 0.0945, Train Accuracy: 96.69%, Val Loss: 0.3174, Val Accuracy: 90.30%, ETA: 02:48:48\n"
     ]
    },
    {
     "name": "stderr",
     "output_type": "stream",
     "text": [
      "Epoch 45/100: 100%|████| 313/313 [02:52<00:00,  1.82batch/s, accuracy=96.7, loss=0.0467]\n",
      "Validation: 100%|████████████████████████████████████| 40/40 [00:09<00:00,  4.31batch/s]\n"
     ]
    },
    {
     "name": "stdout",
     "output_type": "stream",
     "text": [
      "Epoch [45/100], Train Loss: 0.0933, Train Accuracy: 96.73%, Val Loss: 0.2959, Val Accuracy: 91.48%, ETA: 02:46:13\n"
     ]
    },
    {
     "name": "stderr",
     "output_type": "stream",
     "text": [
      "Epoch 46/100: 100%|██████| 313/313 [02:51<00:00,  1.82batch/s, accuracy=97, loss=0.0427]\n",
      "Validation: 100%|████████████████████████████████████| 40/40 [00:09<00:00,  4.30batch/s]\n"
     ]
    },
    {
     "name": "stdout",
     "output_type": "stream",
     "text": [
      "Epoch [46/100], Train Loss: 0.0853, Train Accuracy: 97.05%, Val Loss: 0.3340, Val Accuracy: 90.72%, ETA: 02:43:07\n"
     ]
    },
    {
     "name": "stderr",
     "output_type": "stream",
     "text": [
      "Epoch 47/100: 100%|████| 313/313 [02:51<00:00,  1.82batch/s, accuracy=96.8, loss=0.0468]\n",
      "Validation: 100%|████████████████████████████████████| 40/40 [00:09<00:00,  4.31batch/s]\n"
     ]
    },
    {
     "name": "stdout",
     "output_type": "stream",
     "text": [
      "Epoch [47/100], Train Loss: 0.0935, Train Accuracy: 96.81%, Val Loss: 0.3178, Val Accuracy: 89.98%, ETA: 02:39:49\n"
     ]
    },
    {
     "name": "stderr",
     "output_type": "stream",
     "text": [
      "Epoch 48/100: 100%|██████| 313/313 [02:52<00:00,  1.82batch/s, accuracy=97, loss=0.0442]\n",
      "Validation: 100%|████████████████████████████████████| 40/40 [00:09<00:00,  4.29batch/s]\n"
     ]
    },
    {
     "name": "stdout",
     "output_type": "stream",
     "text": [
      "Epoch [48/100], Train Loss: 0.0882, Train Accuracy: 96.97%, Val Loss: 0.3065, Val Accuracy: 91.52%, ETA: 02:37:14\n"
     ]
    },
    {
     "name": "stderr",
     "output_type": "stream",
     "text": [
      "Epoch 49/100: 100%|██████| 313/313 [02:51<00:00,  1.82batch/s, accuracy=97, loss=0.0423]\n",
      "Validation: 100%|████████████████████████████████████| 40/40 [00:09<00:00,  4.34batch/s]\n"
     ]
    },
    {
     "name": "stdout",
     "output_type": "stream",
     "text": [
      "Epoch [49/100], Train Loss: 0.0845, Train Accuracy: 97.00%, Val Loss: 0.3628, Val Accuracy: 89.32%, ETA: 02:33:57\n"
     ]
    },
    {
     "name": "stderr",
     "output_type": "stream",
     "text": [
      "Epoch 50/100: 100%|████| 313/313 [02:51<00:00,  1.83batch/s, accuracy=97.1, loss=0.0417]\n",
      "Validation: 100%|████████████████████████████████████| 40/40 [00:09<00:00,  4.32batch/s]\n"
     ]
    },
    {
     "name": "stdout",
     "output_type": "stream",
     "text": [
      "Epoch [50/100], Train Loss: 0.0832, Train Accuracy: 97.12%, Val Loss: 0.3487, Val Accuracy: 90.22%, ETA: 02:30:38\n"
     ]
    },
    {
     "name": "stderr",
     "output_type": "stream",
     "text": [
      "Epoch 51/100: 100%|████| 313/313 [02:51<00:00,  1.82batch/s, accuracy=97.2, loss=0.0403]\n",
      "Validation: 100%|████████████████████████████████████| 40/40 [00:09<00:00,  4.32batch/s]\n"
     ]
    },
    {
     "name": "stdout",
     "output_type": "stream",
     "text": [
      "Epoch [51/100], Train Loss: 0.0806, Train Accuracy: 97.23%, Val Loss: 0.2917, Val Accuracy: 91.86%, ETA: 02:27:38\n",
      "saved model at epoch 50\n"
     ]
    },
    {
     "name": "stderr",
     "output_type": "stream",
     "text": [
      "Epoch 52/100: 100%|█████| 313/313 [02:51<00:00,  1.82batch/s, accuracy=97.3, loss=0.039]\n",
      "Validation: 100%|████████████████████████████████████| 40/40 [00:09<00:00,  4.36batch/s]\n"
     ]
    },
    {
     "name": "stdout",
     "output_type": "stream",
     "text": [
      "Epoch [52/100], Train Loss: 0.0779, Train Accuracy: 97.28%, Val Loss: 0.3034, Val Accuracy: 91.10%, ETA: 02:24:42\n"
     ]
    },
    {
     "name": "stderr",
     "output_type": "stream",
     "text": [
      "Epoch 53/100: 100%|████| 313/313 [02:51<00:00,  1.82batch/s, accuracy=96.6, loss=0.0486]\n",
      "Validation: 100%|████████████████████████████████████| 40/40 [00:09<00:00,  4.26batch/s]\n"
     ]
    },
    {
     "name": "stdout",
     "output_type": "stream",
     "text": [
      "Epoch [53/100], Train Loss: 0.0970, Train Accuracy: 96.62%, Val Loss: 0.3204, Val Accuracy: 90.30%, ETA: 02:21:53\n"
     ]
    },
    {
     "name": "stderr",
     "output_type": "stream",
     "text": [
      "Epoch 54/100: 100%|██████| 313/313 [02:51<00:00,  1.82batch/s, accuracy=97, loss=0.0445]\n",
      "Validation: 100%|████████████████████████████████████| 40/40 [00:09<00:00,  4.37batch/s]\n"
     ]
    },
    {
     "name": "stdout",
     "output_type": "stream",
     "text": [
      "Epoch [54/100], Train Loss: 0.0889, Train Accuracy: 97.02%, Val Loss: 0.2883, Val Accuracy: 91.26%, ETA: 02:18:45\n"
     ]
    },
    {
     "name": "stderr",
     "output_type": "stream",
     "text": [
      "Epoch 55/100: 100%|████| 313/313 [02:51<00:00,  1.82batch/s, accuracy=97.3, loss=0.0377]\n",
      "Validation: 100%|████████████████████████████████████| 40/40 [00:09<00:00,  4.35batch/s]\n"
     ]
    },
    {
     "name": "stdout",
     "output_type": "stream",
     "text": [
      "Epoch [55/100], Train Loss: 0.0752, Train Accuracy: 97.34%, Val Loss: 0.3175, Val Accuracy: 90.50%, ETA: 02:15:45\n"
     ]
    },
    {
     "name": "stderr",
     "output_type": "stream",
     "text": [
      "Epoch 56/100: 100%|████| 313/313 [02:51<00:00,  1.83batch/s, accuracy=97.3, loss=0.0391]\n",
      "Validation: 100%|████████████████████████████████████| 40/40 [00:09<00:00,  4.35batch/s]\n"
     ]
    },
    {
     "name": "stdout",
     "output_type": "stream",
     "text": [
      "Epoch [56/100], Train Loss: 0.0781, Train Accuracy: 97.34%, Val Loss: 0.2805, Val Accuracy: 91.78%, ETA: 02:12:29\n"
     ]
    },
    {
     "name": "stderr",
     "output_type": "stream",
     "text": [
      "Epoch 57/100: 100%|█████| 313/313 [02:51<00:00,  1.83batch/s, accuracy=97.7, loss=0.033]\n",
      "Validation: 100%|████████████████████████████████████| 40/40 [00:09<00:00,  4.37batch/s]\n"
     ]
    },
    {
     "name": "stdout",
     "output_type": "stream",
     "text": [
      "Epoch [57/100], Train Loss: 0.0660, Train Accuracy: 97.74%, Val Loss: 0.2738, Val Accuracy: 92.12%, ETA: 02:09:27\n"
     ]
    },
    {
     "name": "stderr",
     "output_type": "stream",
     "text": [
      "Epoch 58/100: 100%|████| 313/313 [02:51<00:00,  1.82batch/s, accuracy=97.7, loss=0.0333]\n",
      "Validation: 100%|████████████████████████████████████| 40/40 [00:09<00:00,  4.30batch/s]\n"
     ]
    },
    {
     "name": "stdout",
     "output_type": "stream",
     "text": [
      "Epoch [58/100], Train Loss: 0.0665, Train Accuracy: 97.72%, Val Loss: 0.3034, Val Accuracy: 91.46%, ETA: 02:06:48\n"
     ]
    },
    {
     "name": "stderr",
     "output_type": "stream",
     "text": [
      "Epoch 59/100: 100%|████| 313/313 [02:52<00:00,  1.82batch/s, accuracy=97.8, loss=0.0312]\n",
      "Validation: 100%|████████████████████████████████████| 40/40 [00:09<00:00,  4.38batch/s]\n"
     ]
    },
    {
     "name": "stdout",
     "output_type": "stream",
     "text": [
      "Epoch [59/100], Train Loss: 0.0623, Train Accuracy: 97.84%, Val Loss: 0.2940, Val Accuracy: 91.50%, ETA: 02:03:49\n"
     ]
    },
    {
     "name": "stderr",
     "output_type": "stream",
     "text": [
      "Epoch 60/100: 100%|████| 313/313 [02:52<00:00,  1.82batch/s, accuracy=97.6, loss=0.0339]\n",
      "Validation: 100%|████████████████████████████████████| 40/40 [00:09<00:00,  4.31batch/s]\n"
     ]
    },
    {
     "name": "stdout",
     "output_type": "stream",
     "text": [
      "Epoch [60/100], Train Loss: 0.0676, Train Accuracy: 97.64%, Val Loss: 0.2899, Val Accuracy: 91.70%, ETA: 02:01:00\n"
     ]
    },
    {
     "name": "stderr",
     "output_type": "stream",
     "text": [
      "Epoch 61/100: 100%|████| 313/313 [02:51<00:00,  1.82batch/s, accuracy=97.2, loss=0.0416]\n",
      "Validation: 100%|████████████████████████████████████| 40/40 [00:09<00:00,  4.27batch/s]\n"
     ]
    },
    {
     "name": "stdout",
     "output_type": "stream",
     "text": [
      "Epoch [61/100], Train Loss: 0.0831, Train Accuracy: 97.23%, Val Loss: 0.3330, Val Accuracy: 90.14%, ETA: 01:57:34\n",
      "saved model at epoch 60\n"
     ]
    },
    {
     "name": "stderr",
     "output_type": "stream",
     "text": [
      "Epoch 62/100: 100%|████| 313/313 [02:51<00:00,  1.82batch/s, accuracy=96.9, loss=0.0447]\n",
      "Validation: 100%|████████████████████████████████████| 40/40 [00:09<00:00,  4.27batch/s]\n"
     ]
    },
    {
     "name": "stdout",
     "output_type": "stream",
     "text": [
      "Epoch [62/100], Train Loss: 0.0893, Train Accuracy: 96.90%, Val Loss: 0.3048, Val Accuracy: 91.40%, ETA: 01:54:48\n"
     ]
    },
    {
     "name": "stderr",
     "output_type": "stream",
     "text": [
      "Epoch 63/100: 100%|██████| 313/313 [02:52<00:00,  1.82batch/s, accuracy=97, loss=0.0435]\n",
      "Validation: 100%|████████████████████████████████████| 40/40 [00:09<00:00,  4.27batch/s]\n"
     ]
    },
    {
     "name": "stdout",
     "output_type": "stream",
     "text": [
      "Epoch [63/100], Train Loss: 0.0868, Train Accuracy: 97.02%, Val Loss: 0.2755, Val Accuracy: 92.26%, ETA: 01:51:56\n"
     ]
    },
    {
     "name": "stderr",
     "output_type": "stream",
     "text": [
      "Epoch 64/100: 100%|█████| 313/313 [02:51<00:00,  1.82batch/s, accuracy=97.7, loss=0.034]\n",
      "Validation: 100%|████████████████████████████████████| 40/40 [00:09<00:00,  4.29batch/s]\n"
     ]
    },
    {
     "name": "stdout",
     "output_type": "stream",
     "text": [
      "Epoch [64/100], Train Loss: 0.0679, Train Accuracy: 97.66%, Val Loss: 0.3753, Val Accuracy: 88.68%, ETA: 01:48:46\n"
     ]
    },
    {
     "name": "stderr",
     "output_type": "stream",
     "text": [
      "Epoch 65/100: 100%|████| 313/313 [02:52<00:00,  1.82batch/s, accuracy=97.5, loss=0.0384]\n",
      "Validation: 100%|████████████████████████████████████| 40/40 [00:09<00:00,  4.34batch/s]\n"
     ]
    },
    {
     "name": "stdout",
     "output_type": "stream",
     "text": [
      "Epoch [65/100], Train Loss: 0.0766, Train Accuracy: 97.49%, Val Loss: 0.3248, Val Accuracy: 91.26%, ETA: 01:45:54\n"
     ]
    },
    {
     "name": "stderr",
     "output_type": "stream",
     "text": [
      "Epoch 66/100: 100%|████| 313/313 [02:51<00:00,  1.82batch/s, accuracy=97.7, loss=0.0334]\n",
      "Validation: 100%|████████████████████████████████████| 40/40 [00:09<00:00,  4.37batch/s]\n"
     ]
    },
    {
     "name": "stdout",
     "output_type": "stream",
     "text": [
      "Epoch [66/100], Train Loss: 0.0667, Train Accuracy: 97.72%, Val Loss: 0.2908, Val Accuracy: 91.82%, ETA: 01:42:38\n"
     ]
    },
    {
     "name": "stderr",
     "output_type": "stream",
     "text": [
      "Epoch 67/100: 100%|████| 313/313 [02:52<00:00,  1.82batch/s, accuracy=97.6, loss=0.0339]\n",
      "Validation: 100%|████████████████████████████████████| 40/40 [00:09<00:00,  4.27batch/s]\n"
     ]
    },
    {
     "name": "stdout",
     "output_type": "stream",
     "text": [
      "Epoch [67/100], Train Loss: 0.0677, Train Accuracy: 97.62%, Val Loss: 0.3001, Val Accuracy: 91.44%, ETA: 01:39:52\n"
     ]
    },
    {
     "name": "stderr",
     "output_type": "stream",
     "text": [
      "Epoch 68/100: 100%|██████| 313/313 [02:51<00:00,  1.82batch/s, accuracy=97, loss=0.0437]\n",
      "Validation: 100%|████████████████████████████████████| 40/40 [00:09<00:00,  4.34batch/s]\n"
     ]
    },
    {
     "name": "stdout",
     "output_type": "stream",
     "text": [
      "Epoch [68/100], Train Loss: 0.0872, Train Accuracy: 97.00%, Val Loss: 0.3301, Val Accuracy: 89.50%, ETA: 01:36:31\n"
     ]
    },
    {
     "name": "stderr",
     "output_type": "stream",
     "text": [
      "Epoch 69/100: 100%|█████| 313/313 [02:51<00:00,  1.82batch/s, accuracy=96.4, loss=0.052]\n",
      "Validation: 100%|████████████████████████████████████| 40/40 [00:09<00:00,  4.28batch/s]\n"
     ]
    },
    {
     "name": "stdout",
     "output_type": "stream",
     "text": [
      "Epoch [69/100], Train Loss: 0.1038, Train Accuracy: 96.39%, Val Loss: 0.3254, Val Accuracy: 90.34%, ETA: 01:33:38\n"
     ]
    },
    {
     "name": "stderr",
     "output_type": "stream",
     "text": [
      "Epoch 70/100: 100%|████| 313/313 [02:52<00:00,  1.82batch/s, accuracy=97.4, loss=0.0377]\n",
      "Validation: 100%|████████████████████████████████████| 40/40 [00:09<00:00,  4.31batch/s]\n"
     ]
    },
    {
     "name": "stdout",
     "output_type": "stream",
     "text": [
      "Epoch [70/100], Train Loss: 0.0752, Train Accuracy: 97.36%, Val Loss: 0.2931, Val Accuracy: 91.94%, ETA: 01:30:41\n"
     ]
    },
    {
     "name": "stderr",
     "output_type": "stream",
     "text": [
      "Epoch 71/100: 100%|████| 313/313 [02:52<00:00,  1.82batch/s, accuracy=97.6, loss=0.0353]\n",
      "Validation: 100%|████████████████████████████████████| 40/40 [00:09<00:00,  4.33batch/s]\n"
     ]
    },
    {
     "name": "stdout",
     "output_type": "stream",
     "text": [
      "Epoch [71/100], Train Loss: 0.0705, Train Accuracy: 97.56%, Val Loss: 0.2936, Val Accuracy: 91.48%, ETA: 01:27:42\n",
      "saved model at epoch 70\n"
     ]
    },
    {
     "name": "stderr",
     "output_type": "stream",
     "text": [
      "Epoch 72/100: 100%|████| 313/313 [02:52<00:00,  1.82batch/s, accuracy=98.1, loss=0.0276]\n",
      "Validation: 100%|████████████████████████████████████| 40/40 [00:09<00:00,  4.29batch/s]\n"
     ]
    },
    {
     "name": "stdout",
     "output_type": "stream",
     "text": [
      "Epoch [72/100], Train Loss: 0.0552, Train Accuracy: 98.08%, Val Loss: 0.2814, Val Accuracy: 92.30%, ETA: 01:24:40\n"
     ]
    },
    {
     "name": "stderr",
     "output_type": "stream",
     "text": [
      "Epoch 73/100: 100%|████| 313/313 [02:52<00:00,  1.82batch/s, accuracy=97.9, loss=0.0307]\n",
      "Validation: 100%|████████████████████████████████████| 40/40 [00:09<00:00,  4.30batch/s]\n"
     ]
    },
    {
     "name": "stdout",
     "output_type": "stream",
     "text": [
      "Epoch [73/100], Train Loss: 0.0612, Train Accuracy: 97.90%, Val Loss: 0.3502, Val Accuracy: 90.12%, ETA: 01:21:45\n"
     ]
    },
    {
     "name": "stderr",
     "output_type": "stream",
     "text": [
      "Epoch 74/100: 100%|████| 313/313 [02:52<00:00,  1.82batch/s, accuracy=97.6, loss=0.0345]\n",
      "Validation: 100%|████████████████████████████████████| 40/40 [00:09<00:00,  4.32batch/s]\n"
     ]
    },
    {
     "name": "stdout",
     "output_type": "stream",
     "text": [
      "Epoch [74/100], Train Loss: 0.0689, Train Accuracy: 97.61%, Val Loss: 0.3347, Val Accuracy: 90.70%, ETA: 01:18:41\n"
     ]
    },
    {
     "name": "stderr",
     "output_type": "stream",
     "text": [
      "Epoch 75/100: 100%|████| 313/313 [02:51<00:00,  1.82batch/s, accuracy=96.9, loss=0.0456]\n",
      "Validation: 100%|████████████████████████████████████| 40/40 [00:09<00:00,  4.27batch/s]\n"
     ]
    },
    {
     "name": "stdout",
     "output_type": "stream",
     "text": [
      "Epoch [75/100], Train Loss: 0.0911, Train Accuracy: 96.86%, Val Loss: 0.3810, Val Accuracy: 89.92%, ETA: 01:15:32\n"
     ]
    },
    {
     "name": "stderr",
     "output_type": "stream",
     "text": [
      "Epoch 76/100: 100%|████| 313/313 [02:52<00:00,  1.82batch/s, accuracy=96.8, loss=0.0457]\n",
      "Validation: 100%|████████████████████████████████████| 40/40 [00:09<00:00,  4.33batch/s]\n"
     ]
    },
    {
     "name": "stdout",
     "output_type": "stream",
     "text": [
      "Epoch [76/100], Train Loss: 0.0913, Train Accuracy: 96.85%, Val Loss: 0.3810, Val Accuracy: 90.04%, ETA: 01:12:35\n"
     ]
    },
    {
     "name": "stderr",
     "output_type": "stream",
     "text": [
      "Epoch 77/100: 100%|████| 313/313 [02:51<00:00,  1.82batch/s, accuracy=96.4, loss=0.0523]\n",
      "Validation: 100%|████████████████████████████████████| 40/40 [00:09<00:00,  4.32batch/s]\n"
     ]
    },
    {
     "name": "stdout",
     "output_type": "stream",
     "text": [
      "Epoch [77/100], Train Loss: 0.1045, Train Accuracy: 96.43%, Val Loss: 0.3455, Val Accuracy: 90.30%, ETA: 01:09:28\n"
     ]
    },
    {
     "name": "stderr",
     "output_type": "stream",
     "text": [
      "Epoch 78/100: 100%|████| 313/313 [02:52<00:00,  1.82batch/s, accuracy=95.5, loss=0.0663]\n",
      "Validation: 100%|████████████████████████████████████| 40/40 [00:09<00:00,  4.33batch/s]\n"
     ]
    },
    {
     "name": "stdout",
     "output_type": "stream",
     "text": [
      "Epoch [78/100], Train Loss: 0.1323, Train Accuracy: 95.53%, Val Loss: 0.3225, Val Accuracy: 90.18%, ETA: 01:06:29\n"
     ]
    },
    {
     "name": "stderr",
     "output_type": "stream",
     "text": [
      "Epoch 79/100: 100%|████| 313/313 [02:52<00:00,  1.82batch/s, accuracy=94.3, loss=0.0811]\n",
      "Validation: 100%|████████████████████████████████████| 40/40 [00:09<00:00,  4.26batch/s]\n"
     ]
    },
    {
     "name": "stdout",
     "output_type": "stream",
     "text": [
      "Epoch [79/100], Train Loss: 0.1619, Train Accuracy: 94.29%, Val Loss: 0.3417, Val Accuracy: 90.30%, ETA: 01:03:29\n"
     ]
    },
    {
     "name": "stderr",
     "output_type": "stream",
     "text": [
      "Epoch 80/100: 100%|████| 313/313 [02:51<00:00,  1.82batch/s, accuracy=93.5, loss=0.0953]\n",
      "Validation: 100%|████████████████████████████████████| 40/40 [00:09<00:00,  4.34batch/s]\n"
     ]
    },
    {
     "name": "stdout",
     "output_type": "stream",
     "text": [
      "Epoch [80/100], Train Loss: 0.1903, Train Accuracy: 93.47%, Val Loss: 0.4154, Val Accuracy: 86.74%, ETA: 01:00:21\n"
     ]
    },
    {
     "name": "stderr",
     "output_type": "stream",
     "text": [
      "Epoch 81/100: 100%|████| 313/313 [02:52<00:00,  1.82batch/s, accuracy=94.3, loss=0.0822]\n",
      "Validation: 100%|████████████████████████████████████| 40/40 [00:09<00:00,  4.27batch/s]\n"
     ]
    },
    {
     "name": "stdout",
     "output_type": "stream",
     "text": [
      "Epoch [81/100], Train Loss: 0.1641, Train Accuracy: 94.34%, Val Loss: 0.4144, Val Accuracy: 87.00%, ETA: 00:57:28\n",
      "saved model at epoch 80\n"
     ]
    },
    {
     "name": "stderr",
     "output_type": "stream",
     "text": [
      "Epoch 82/100: 100%|█████| 313/313 [02:52<00:00,  1.82batch/s, accuracy=90.5, loss=0.139]\n",
      "Validation: 100%|████████████████████████████████████| 40/40 [00:09<00:00,  4.31batch/s]\n"
     ]
    },
    {
     "name": "stdout",
     "output_type": "stream",
     "text": [
      "Epoch [82/100], Train Loss: 0.2785, Train Accuracy: 90.48%, Val Loss: 0.3467, Val Accuracy: 89.12%, ETA: 00:54:23\n"
     ]
    },
    {
     "name": "stderr",
     "output_type": "stream",
     "text": [
      "Epoch 83/100: 100%|████| 313/313 [02:52<00:00,  1.82batch/s, accuracy=93.7, loss=0.0909]\n",
      "Validation: 100%|████████████████████████████████████| 40/40 [00:09<00:00,  4.34batch/s]\n"
     ]
    },
    {
     "name": "stdout",
     "output_type": "stream",
     "text": [
      "Epoch [83/100], Train Loss: 0.1816, Train Accuracy: 93.65%, Val Loss: 0.3376, Val Accuracy: 89.16%, ETA: 00:51:21\n"
     ]
    },
    {
     "name": "stderr",
     "output_type": "stream",
     "text": [
      "Epoch 84/100: 100%|████| 313/313 [02:51<00:00,  1.82batch/s, accuracy=93.7, loss=0.0917]\n",
      "Validation: 100%|████████████████████████████████████| 40/40 [00:09<00:00,  4.30batch/s]\n"
     ]
    },
    {
     "name": "stdout",
     "output_type": "stream",
     "text": [
      "Epoch [84/100], Train Loss: 0.1832, Train Accuracy: 93.69%, Val Loss: 0.3452, Val Accuracy: 89.06%, ETA: 00:48:17\n"
     ]
    },
    {
     "name": "stderr",
     "output_type": "stream",
     "text": [
      "Epoch 85/100: 100%|████| 313/313 [02:52<00:00,  1.82batch/s, accuracy=94.3, loss=0.0812]\n",
      "Validation: 100%|████████████████████████████████████| 40/40 [00:09<00:00,  4.35batch/s]\n"
     ]
    },
    {
     "name": "stdout",
     "output_type": "stream",
     "text": [
      "Epoch [85/100], Train Loss: 0.1622, Train Accuracy: 94.31%, Val Loss: 0.3791, Val Accuracy: 88.68%, ETA: 00:45:20\n"
     ]
    },
    {
     "name": "stderr",
     "output_type": "stream",
     "text": [
      "Epoch 86/100: 100%|████| 313/313 [02:51<00:00,  1.82batch/s, accuracy=94.5, loss=0.0779]\n",
      "Validation: 100%|████████████████████████████████████| 40/40 [00:09<00:00,  4.34batch/s]\n"
     ]
    },
    {
     "name": "stdout",
     "output_type": "stream",
     "text": [
      "Epoch [86/100], Train Loss: 0.1555, Train Accuracy: 94.55%, Val Loss: 0.3371, Val Accuracy: 89.74%, ETA: 00:42:14\n"
     ]
    },
    {
     "name": "stderr",
     "output_type": "stream",
     "text": [
      "Epoch 87/100: 100%|████| 313/313 [02:51<00:00,  1.82batch/s, accuracy=96.3, loss=0.0527]\n",
      "Validation: 100%|████████████████████████████████████| 40/40 [00:09<00:00,  4.26batch/s]\n"
     ]
    },
    {
     "name": "stdout",
     "output_type": "stream",
     "text": [
      "Epoch [87/100], Train Loss: 0.1052, Train Accuracy: 96.25%, Val Loss: 0.2967, Val Accuracy: 91.22%, ETA: 00:39:17\n"
     ]
    },
    {
     "name": "stderr",
     "output_type": "stream",
     "text": [
      "Epoch 88/100: 100%|████| 313/313 [02:52<00:00,  1.82batch/s, accuracy=95.8, loss=0.0604]\n",
      "Validation: 100%|████████████████████████████████████| 40/40 [00:09<00:00,  4.34batch/s]\n"
     ]
    },
    {
     "name": "stdout",
     "output_type": "stream",
     "text": [
      "Epoch [88/100], Train Loss: 0.1205, Train Accuracy: 95.79%, Val Loss: 0.3992, Val Accuracy: 87.50%, ETA: 00:36:17\n"
     ]
    },
    {
     "name": "stderr",
     "output_type": "stream",
     "text": [
      "Epoch 89/100: 100%|██████| 313/313 [02:52<00:00,  1.82batch/s, accuracy=91.6, loss=0.12]\n",
      "Validation: 100%|████████████████████████████████████| 40/40 [00:09<00:00,  4.30batch/s]\n"
     ]
    },
    {
     "name": "stdout",
     "output_type": "stream",
     "text": [
      "Epoch [89/100], Train Loss: 0.2394, Train Accuracy: 91.62%, Val Loss: 0.3916, Val Accuracy: 88.00%, ETA: 00:33:15\n"
     ]
    },
    {
     "name": "stderr",
     "output_type": "stream",
     "text": [
      "Epoch 90/100: 100%|████| 313/313 [02:52<00:00,  1.82batch/s, accuracy=94.9, loss=0.0735]\n",
      "Validation: 100%|████████████████████████████████████| 40/40 [00:09<00:00,  4.32batch/s]\n"
     ]
    },
    {
     "name": "stdout",
     "output_type": "stream",
     "text": [
      "Epoch [90/100], Train Loss: 0.1467, Train Accuracy: 94.92%, Val Loss: 0.3708, Val Accuracy: 88.32%, ETA: 00:30:14\n"
     ]
    },
    {
     "name": "stderr",
     "output_type": "stream",
     "text": [
      "Epoch 91/100: 100%|██████| 313/313 [02:51<00:00,  1.82batch/s, accuracy=94, loss=0.0842]\n",
      "Validation: 100%|████████████████████████████████████| 40/40 [00:09<00:00,  4.29batch/s]\n"
     ]
    },
    {
     "name": "stdout",
     "output_type": "stream",
     "text": [
      "Epoch [91/100], Train Loss: 0.1681, Train Accuracy: 94.02%, Val Loss: 0.2998, Val Accuracy: 90.96%, ETA: 00:27:11\n",
      "saved model at epoch 90\n"
     ]
    },
    {
     "name": "stderr",
     "output_type": "stream",
     "text": [
      "Epoch 92/100: 100%|████| 313/313 [02:51<00:00,  1.82batch/s, accuracy=95.3, loss=0.0673]\n",
      "Validation: 100%|████████████████████████████████████| 40/40 [00:09<00:00,  4.31batch/s]\n"
     ]
    },
    {
     "name": "stdout",
     "output_type": "stream",
     "text": [
      "Epoch [92/100], Train Loss: 0.1345, Train Accuracy: 95.33%, Val Loss: 0.4263, Val Accuracy: 86.52%, ETA: 00:24:06\n"
     ]
    },
    {
     "name": "stderr",
     "output_type": "stream",
     "text": [
      "Epoch 93/100: 100%|██████| 313/313 [02:52<00:00,  1.82batch/s, accuracy=94, loss=0.0852]\n",
      "Validation: 100%|████████████████████████████████████| 40/40 [00:09<00:00,  4.30batch/s]\n"
     ]
    },
    {
     "name": "stdout",
     "output_type": "stream",
     "text": [
      "Epoch [93/100], Train Loss: 0.1702, Train Accuracy: 94.00%, Val Loss: 0.3892, Val Accuracy: 86.90%, ETA: 00:21:12\n"
     ]
    },
    {
     "name": "stderr",
     "output_type": "stream",
     "text": [
      "Epoch 94/100: 100%|█████| 313/313 [02:51<00:00,  1.82batch/s, accuracy=87.3, loss=0.183]\n",
      "Validation: 100%|████████████████████████████████████| 40/40 [00:09<00:00,  4.27batch/s]\n"
     ]
    },
    {
     "name": "stdout",
     "output_type": "stream",
     "text": [
      "Epoch [94/100], Train Loss: 0.3655, Train Accuracy: 87.30%, Val Loss: 0.4352, Val Accuracy: 84.94%, ETA: 00:18:07\n"
     ]
    },
    {
     "name": "stderr",
     "output_type": "stream",
     "text": [
      "Epoch 95/100: 100%|███████| 313/313 [02:51<00:00,  1.83batch/s, accuracy=93, loss=0.101]\n",
      "Validation: 100%|████████████████████████████████████| 40/40 [00:09<00:00,  4.32batch/s]\n"
     ]
    },
    {
     "name": "stdout",
     "output_type": "stream",
     "text": [
      "Epoch [95/100], Train Loss: 0.2021, Train Accuracy: 92.96%, Val Loss: 0.3262, Val Accuracy: 89.72%, ETA: 00:15:03\n"
     ]
    },
    {
     "name": "stderr",
     "output_type": "stream",
     "text": [
      "Epoch 96/100: 100%|█████| 313/313 [02:52<00:00,  1.82batch/s, accuracy=92.2, loss=0.113]\n",
      "Validation: 100%|████████████████████████████████████| 40/40 [00:09<00:00,  4.28batch/s]\n"
     ]
    },
    {
     "name": "stdout",
     "output_type": "stream",
     "text": [
      "Epoch [96/100], Train Loss: 0.2249, Train Accuracy: 92.16%, Val Loss: 0.3381, Val Accuracy: 88.90%, ETA: 00:12:05\n"
     ]
    },
    {
     "name": "stderr",
     "output_type": "stream",
     "text": [
      "Epoch 97/100: 100%|██████| 313/313 [02:51<00:00,  1.82batch/s, accuracy=81.3, loss=0.27]\n",
      "Validation: 100%|████████████████████████████████████| 40/40 [00:09<00:00,  4.29batch/s]\n"
     ]
    },
    {
     "name": "stdout",
     "output_type": "stream",
     "text": [
      "Epoch [97/100], Train Loss: 0.5399, Train Accuracy: 81.33%, Val Loss: 0.5779, Val Accuracy: 80.30%, ETA: 00:09:03\n"
     ]
    },
    {
     "name": "stderr",
     "output_type": "stream",
     "text": [
      "Epoch 98/100: 100%|█████| 313/313 [02:51<00:00,  1.82batch/s, accuracy=75.7, loss=0.346]\n",
      "Validation: 100%|████████████████████████████████████| 40/40 [00:09<00:00,  4.26batch/s]\n"
     ]
    },
    {
     "name": "stdout",
     "output_type": "stream",
     "text": [
      "Epoch [98/100], Train Loss: 0.6909, Train Accuracy: 75.69%, Val Loss: 0.9627, Val Accuracy: 67.52%, ETA: 00:06:02\n"
     ]
    },
    {
     "name": "stderr",
     "output_type": "stream",
     "text": [
      "Epoch 99/100: 100%|█████| 313/313 [02:51<00:00,  1.82batch/s, accuracy=85.2, loss=0.208]\n",
      "Validation: 100%|████████████████████████████████████| 40/40 [00:09<00:00,  4.30batch/s]\n"
     ]
    },
    {
     "name": "stdout",
     "output_type": "stream",
     "text": [
      "Epoch [99/100], Train Loss: 0.4162, Train Accuracy: 85.21%, Val Loss: 0.3921, Val Accuracy: 87.04%, ETA: 00:03:01\n"
     ]
    },
    {
     "name": "stderr",
     "output_type": "stream",
     "text": [
      "Epoch 100/100: 100%|████| 313/313 [02:52<00:00,  1.82batch/s, accuracy=92.7, loss=0.103]\n",
      "Validation: 100%|████████████████████████████████████| 40/40 [00:09<00:00,  4.36batch/s]"
     ]
    },
    {
     "name": "stdout",
     "output_type": "stream",
     "text": [
      "Epoch [100/100], Train Loss: 0.2066, Train Accuracy: 92.72%, Val Loss: 0.3646, Val Accuracy: 87.84%, ETA: 00:00:00\n",
      "Finished Training\n"
     ]
    },
    {
     "name": "stderr",
     "output_type": "stream",
     "text": [
      "\n"
     ]
    }
   ],
   "source": [
    "num_epochs = 100\n",
    "train_losses = []\n",
    "val_losses = []\n",
    "train_accuracies = []\n",
    "val_accuracies = []\n",
    "\n",
    "for epoch in range(num_epochs):\n",
    "    start_time = time.time()\n",
    "    running_loss = 0.0\n",
    "    correct = 0\n",
    "    total = 0\n",
    "\n",
    "    # Training loop\n",
    "    model.train()\n",
    "    trainloader_tqdm = tqdm(trainloader, desc=f'Epoch {epoch + 1}/{num_epochs}', unit='batch')\n",
    "    for data in trainloader_tqdm:\n",
    "        inputs, labels = data\n",
    "        inputs, labels = inputs.to(device), labels.to(device)\n",
    "\n",
    "        optimizer.zero_grad()\n",
    "        outputs = model(inputs)\n",
    "        loss = criterion(outputs, labels)\n",
    "        loss.backward()\n",
    "        optimizer.step()\n",
    "\n",
    "        running_loss += loss.item()\n",
    "        _, predicted = torch.max(outputs.data, 1)\n",
    "        total += labels.size(0)\n",
    "        correct += (predicted == labels).sum().item()\n",
    "\n",
    "        # Update tqdm description\n",
    "        trainloader_tqdm.set_postfix(loss=running_loss / (total / labels.size(0)), accuracy=100 * correct / total)\n",
    "\n",
    "    train_loss = running_loss / len(trainloader)\n",
    "    train_accuracy = 100 * correct / total\n",
    "    train_losses.append(train_loss)\n",
    "    train_accuracies.append(train_accuracy)\n",
    "\n",
    "    # Validation loop\n",
    "    model.eval()\n",
    "    val_loss = 0.0\n",
    "    correct = 0\n",
    "    total = 0\n",
    "    with torch.no_grad():\n",
    "        for data in tqdm(valloader, desc='Validation', unit='batch'):\n",
    "            images, labels = data\n",
    "            images, labels = images.to(device), labels.to(device)\n",
    "            outputs = model(images)\n",
    "            loss = criterion(outputs, labels)\n",
    "            val_loss += loss.item()\n",
    "            _, predicted = torch.max(outputs.data, 1)\n",
    "            total += labels.size(0)\n",
    "            correct += (predicted == labels).sum().item()\n",
    "\n",
    "    val_loss /= len(valloader)\n",
    "    val_accuracy = 100 * correct / total\n",
    "    val_losses.append(val_loss)\n",
    "    val_accuracies.append(val_accuracy)\n",
    "\n",
    "    end_time = time.time()\n",
    "    epoch_time = end_time - start_time\n",
    "    remaining_time = epoch_time * (num_epochs - epoch - 1)\n",
    "    eta = time.strftime(\"%H:%M:%S\", time.gmtime(remaining_time))\n",
    "\n",
    "    print(f'Epoch [{epoch + 1}/{num_epochs}], '\n",
    "          f'Train Loss: {train_loss:.4f}, Train Accuracy: {train_accuracy:.2f}%, '\n",
    "          f'Val Loss: {val_loss:.4f}, Val Accuracy: {val_accuracy:.2f}%, '\n",
    "          f'ETA: {eta}')\n",
    "    if epoch % 10 == 0:\n",
    "        # 모델 저장\n",
    "        torch.save(model.state_dict(), f'vit_cifar10_{epoch}.pth')\n",
    "        print(f'saved model at epoch {epoch}')\n",
    "\n",
    "print('Finished Training')"
   ]
  },
  {
   "cell_type": "code",
   "execution_count": 6,
   "id": "f654d1c8",
   "metadata": {},
   "outputs": [
    {
     "data": {
      "image/png": "[encoded data removed]",
      "text/plain": [
       "<Figure size 1200x500 with 2 Axes>"
      ]
     },
     "metadata": {},
     "output_type": "display_data"
    }
   ],
   "source": [
    "# 모델 저장\n",
    "torch.save(model.state_dict(), 'vit_cifar10_11th_val.pth')\n",
    "\n",
    "# 학습 곡선 시각화\n",
    "plt.figure(figsize=(12, 5))\n",
    "\n",
    "plt.subplot(1, 2, 1)\n",
    "plt.plot(range(1, num_epochs + 1), train_losses, label='Train Loss')\n",
    "plt.plot(range(1, num_epochs + 1), val_losses, label='Val Loss')\n",
    "plt.xlabel('Epoch')\n",
    "plt.ylabel('Loss')\n",
    "plt.title('Training and Validation Loss')\n",
    "plt.legend()\n",
    "\n",
    "plt.subplot(1, 2, 2)\n",
    "plt.plot(range(1, num_epochs + 1), train_accuracies, label='Train Accuracy')\n",
    "plt.plot(range(1, num_epochs + 1), val_accuracies, label='Val Accuracy')\n",
    "plt.xlabel('Epoch')\n",
    "plt.ylabel('Accuracy')\n",
    "plt.title('Training and Validation Accuracy')\n",
    "plt.legend()\n",
    "\n",
    "plt.show()"
   ]
  },
  {
   "cell_type": "code",
   "execution_count": 7,
   "id": "2783e80f",
   "metadata": {},
   "outputs": [
    {
     "name": "stdout",
     "output_type": "stream",
     "text": [
      "Test Loss: 0.0030, Test Accuracy: 0.8775\n"
     ]
    }
   ],
   "source": [
    "model.eval()\n",
    "running_test_loss = 0.0\n",
    "running_test_correct = 0\n",
    "total_test = 0\n",
    "\n",
    "with torch.no_grad():\n",
    "    for inputs, labels in testloader:\n",
    "        inputs, labels = inputs.to(device), labels.to(device)\n",
    "        outputs = model(inputs)\n",
    "        loss = criterion(outputs, labels)\n",
    "        \n",
    "        running_test_loss += loss.item()\n",
    "        _, preds = torch.max(outputs, 1)\n",
    "        running_test_correct += (preds == labels).sum().item()\n",
    "        total_test += labels.size(0)\n",
    "\n",
    "test_loss = running_test_loss / total_test\n",
    "test_accuracy = running_test_correct / total_test\n",
    "\n",
    "print(f\"Test Loss: {test_loss:.4f}, Test Accuracy: {test_accuracy:.4f}\")"
   ]
  },
  {
   "cell_type": "code",
   "execution_count": null,
   "id": "9497f443",
   "metadata": {},
   "outputs": [],
   "source": []
  }
 ],
 "metadata": {
  "kernelspec": {
   "display_name": "Python 3 (ipykernel)",
   "language": "python",
   "name": "python3"
  },
  "language_info": {
   "codemirror_mode": {
    "name": "ipython",
    "version": 3
   },
   "file_extension": ".py",
   "mimetype": "text/x-python",
   "name": "python",
   "nbconvert_exporter": "python",
   "pygments_lexer": "ipython3",
   "version": "3.11.5"
  }
 },
 "nbformat": 4,
 "nbformat_minor": 5
}
